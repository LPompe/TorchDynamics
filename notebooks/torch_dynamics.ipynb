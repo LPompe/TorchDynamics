{
 "cells": [
  {
   "cell_type": "code",
   "execution_count": 1,
   "metadata": {},
   "outputs": [
    {
     "name": "stdout",
     "output_type": "stream",
     "text": [
      "Using matplotlib backend: agg\n",
      "Populating the interactive namespace from numpy and matplotlib\n"
     ]
    }
   ],
   "source": [
    "import torch  \n",
    "from torch_fp.fp_opt import find_fps, fp_mse, clean_fps\n",
    "from torch_fp import dynamics\n",
    "%pylab\n",
    "%load_ext autoreload\n",
    "%autoreload 2\n",
    "\n",
    "torch.Tensor.ndim = property(lambda x: len(x.shape)) #for plotting"
   ]
  },
  {
   "cell_type": "code",
   "execution_count": 2,
   "metadata": {},
   "outputs": [
    {
     "data": {
      "text/plain": [
       "'/home/lucas/.config/matplotlib'"
      ]
     },
     "execution_count": 2,
     "metadata": {},
     "output_type": "execute_result"
    }
   ],
   "source": [
    "mpl.get_configdir()"
   ]
  },
  {
   "cell_type": "code",
   "execution_count": 3,
   "metadata": {},
   "outputs": [],
   "source": [
    "T = 1.0          # Arbitrary amount time, roughly physiological.\n",
    "ntimesteps = 25  # Divide T into this many bins\n",
    "bval = 0.01      # bias value limit\n",
    "sval = 0.025     # standard deviation (before dividing by sqrt(dt))\n",
    "input_params = (bval, sval, T, ntimesteps)\n",
    "\n",
    "# GRU and task hyperparameters\n",
    "u = 1         # Number of inputs to the GRU\n",
    "n = 100       # Number of units in the GRU\n",
    "o = 1         # Number of outputs in the GRU\n",
    "\n",
    "# Optimization hyperparameters\n",
    "num_batchs = 10000        # Total number of batches to train on.\n",
    "batch_size = 128          # How many examples in each batch\n",
    "eval_batch_size = 1024    # How large a batch for evaluating the RNN\n",
    "step_size = 0.04          # initial learning rate\n",
    "decay_factor = 0.9999     # decay the learning rate this much\n",
    "# Gradient clipping is HUGELY important for training all RNN varieties\n",
    "max_grad_norm = 10.0      # max gradient norm before clipping, clip to this value.\n",
    "l2reg = 0.00002           # amount of L2 regularization on the weights\n",
    "adam_b1 = 0.9             # Adam parameters\n",
    "adam_b2 = 0.999\n",
    "adam_eps = 1e-1\n",
    "print_every = 100          # Print training informatino every so often"
   ]
  },
  {
   "cell_type": "code",
   "execution_count": 4,
   "metadata": {},
   "outputs": [],
   "source": [
    "def get_noise_dataset(input_params):\n",
    "    (bval, sval, T, ntimesteps) = input_params\n",
    "    normal = torch.distributions.normal.Normal(0, 1)\n",
    "    \n",
    "    dt = torch.FloatTensor([T/ntimesteps])\n",
    "    \n",
    "    bsample = normal.sample([1])\n",
    "    b = bval * 2. * (bsample - 0.5) \n",
    "    \n",
    "    stddev = sval / torch.sqrt(dt)\n",
    "    vsample = normal.sample([ntimesteps])\n",
    "    \n",
    "    noise = vsample * stddev\n",
    "    white_noise = noise + b\n",
    "    \n",
    "    true_integral = torch.cumsum(white_noise, 0)\n",
    "    final_target = torch.Tensor([(true_integral[-1] > 0.0)])\n",
    "    \n",
    "    target_t = torch.zeros(true_integral.shape[0]-1)\n",
    "    targets_t = torch.cat([target_t, final_target], dim=0)\n",
    "    \n",
    "    return white_noise, targets_t\n",
    "    \n",
    "def generate_batch(batch_size, input_params):\n",
    "    \n",
    "    noises, targets = [], []\n",
    "    \n",
    "    for i in range(batch_size):\n",
    "        n, t = get_noise_dataset(input_params)\n",
    "        noises.append(n)\n",
    "        targets.append(t)\n",
    "        \n",
    "    return torch.stack(noises).transpose(1, 0)[:, :, None].cuda(), torch.stack(targets).transpose(1, 0)[:, :, None].cuda()\n",
    "    \n",
    "    \n",
    "    "
   ]
  },
  {
   "cell_type": "code",
   "execution_count": 5,
   "metadata": {},
   "outputs": [],
   "source": [
    "noise, target = get_noise_dataset(input_params)"
   ]
  },
  {
   "cell_type": "code",
   "execution_count": 6,
   "metadata": {},
   "outputs": [
    {
     "name": "stdout",
     "output_type": "stream",
     "text": [
      "tensor([-0.0573, -0.0691,  0.0393,  0.1157,  0.1784,  0.2193,  0.1272,  0.1582,\n",
      "         0.0062, -0.0581, -0.2224, -0.3181, -0.1687, -0.0990, -0.1482, -0.3057,\n",
      "        -0.3037, -0.3508, -0.4124, -0.2007, -0.2252, -0.1482, -0.2121, -0.1586,\n",
      "        -0.2539])\n"
     ]
    },
    {
     "data": {
      "image/png": "[encoded data removed]",
      "text/plain": [
       "<Figure size 432x288 with 2 Axes>"
      ]
     },
     "metadata": {
      "needs_background": "light"
     },
     "output_type": "display_data"
    }
   ],
   "source": [
    "%matplotlib inline\n",
    "ax = plt.subplot(211)\n",
    "ax.plot(noise.numpy())\n",
    "ax = plt.subplot(212)\n",
    "ax.plot(target.numpy())\n",
    "\n",
    "print(np.cumsum(noise))"
   ]
  },
  {
   "cell_type": "markdown",
   "metadata": {},
   "source": [
    "# GRU"
   ]
  },
  {
   "cell_type": "code",
   "execution_count": 7,
   "metadata": {},
   "outputs": [],
   "source": [
    "class SimpleGRU(torch.nn.Module):\n",
    "    \"\"\"\n",
    "    Just a GRU class, (Kyunghyun Cho et al., 2014). for didactic purposes.\n",
    "    I suggest you use the standard pytorch GRU class outside of this notebook\n",
    "    \"\"\"\n",
    "    \n",
    "    def __init__(self, u, n, o, use_cuda=True):\n",
    "        super(SimpleGRU, self).__init__()\n",
    "        self.gru = torch.nn.GRUCell(u, n)\n",
    "        self.readout = torch.nn.Linear(n, o)\n",
    "        self.init_s = torch.nn.Parameter(torch.randn(1,n))\n",
    "        \n",
    "        \n",
    "    def forward(self, x):\n",
    "        \n",
    "        hs = []\n",
    "        \n",
    "        batch_size = x.shape[1]\n",
    "        h = self.init_s.repeat((batch_size, 1))\n",
    "        for x_t in x:\n",
    "            h = self.gru(x_t, h)\n",
    "            hs.append(h)\n",
    "        out = self.readout(h)\n",
    "        \n",
    "        return out, torch.stack(hs)\n"
   ]
  },
  {
   "cell_type": "code",
   "execution_count": 26,
   "metadata": {},
   "outputs": [],
   "source": [
    "gru = SimpleGRU(u, n, o).cuda()"
   ]
  },
  {
   "cell_type": "code",
   "execution_count": 27,
   "metadata": {},
   "outputs": [],
   "source": [
    "adam = torch.optim.Adam(gru.parameters(), \n",
    "                        step_size, \n",
    "                        (adam_b1, adam_b2), \n",
    "                        adam_eps,\n",
    "                       l2reg)\n",
    "optim = torch.optim.lr_scheduler.ExponentialLR(adam, decay_factor)"
   ]
  },
  {
   "cell_type": "code",
   "execution_count": 28,
   "metadata": {},
   "outputs": [],
   "source": [
    "noise, targets = generate_batch(batch_size, input_params)"
   ]
  },
  {
   "cell_type": "code",
   "execution_count": 29,
   "metadata": {},
   "outputs": [],
   "source": [
    "mse = torch.nn.MSELoss()\n",
    "def loss(pred, targets):\n",
    "    targets = targets[-1, :, :]\n",
    "    return mse(pred, targets)\n",
    "    "
   ]
  },
  {
   "cell_type": "code",
   "execution_count": 30,
   "metadata": {},
   "outputs": [
    {
     "data": {
      "text/plain": [
       "tensor(0.3594, device='cuda:0', grad_fn=<MseLossBackward>)"
      ]
     },
     "execution_count": 30,
     "metadata": {},
     "output_type": "execute_result"
    }
   ],
   "source": [
    "loss(gru(noise)[0], targets)"
   ]
  },
  {
   "cell_type": "code",
   "execution_count": 31,
   "metadata": {},
   "outputs": [
    {
     "name": "stdout",
     "output_type": "stream",
     "text": [
      "Batch 0 LR: 0.039996000000000004 Training loss: 0.41208547353744507\n",
      "Batch 100 LR: 0.03959801335030015 Training loss: 0.19968265295028687\n",
      "Batch 200 LR: 0.03920398693095678 Training loss: 0.1251993179321289\n",
      "Batch 300 LR: 0.03881388133505894 Training loss: 0.07909876108169556\n",
      "Batch 400 LR: 0.038427657547820473 Training loss: 0.08727829903364182\n",
      "Batch 500 LR: 0.03804527694267816 Training loss: 0.06342096626758575\n",
      "Batch 600 LR: 0.037666701277428626 Training loss: 0.03879846632480621\n",
      "Batch 700 LR: 0.03729189269040369 Training loss: 0.043323270976543427\n",
      "Batch 800 LR: 0.036920813696683756 Training loss: 0.03957922384142876\n",
      "Batch 900 LR: 0.0365534271843491 Training loss: 0.039809584617614746\n",
      "Batch 1000 LR: 0.036189696410768024 Training loss: 0.031170103698968887\n",
      "Batch 1100 LR: 0.03582958499892238 Training loss: 0.029147103428840637\n",
      "Batch 1200 LR: 0.03547305693376938 Training loss: 0.03385123610496521\n",
      "Batch 1300 LR: 0.03512007655863975 Training loss: 0.03318008780479431\n",
      "Batch 1400 LR: 0.03477060857167165 Training loss: 0.020446835085749626\n",
      "Batch 1500 LR: 0.03442461802228005 Training loss: 0.024951431900262833\n",
      "Batch 1600 LR: 0.03408207030766145 Training loss: 0.0241902656853199\n",
      "Batch 1700 LR: 0.03374293116933307 Training loss: 0.03226174786686897\n",
      "Batch 1800 LR: 0.03340716668970668 Training loss: 0.023201974108815193\n",
      "Batch 1900 LR: 0.03307474328869652 Training loss: 0.020517662167549133\n",
      "Batch 2000 LR: 0.03274562772036086 Training loss: 0.03677096962928772\n",
      "Batch 2100 LR: 0.03241978706957714 Training loss: 0.02439344860613346\n",
      "Batch 2200 LR: 0.032097188748749964 Training loss: 0.024445200338959694\n",
      "Batch 2300 LR: 0.03177780049455205 Training loss: 0.06522804498672485\n",
      "Batch 2400 LR: 0.03146159036469761 Training loss: 0.027966653928160667\n",
      "Batch 2500 LR: 0.0311485267347477 Training loss: 0.02055705338716507\n",
      "Batch 2600 LR: 0.030838578294947485 Training loss: 0.020868675783276558\n",
      "Batch 2700 LR: 0.03053171404709485 Training loss: 0.015946226194500923\n",
      "Batch 2800 LR: 0.030227903301440325 Training loss: 0.047262199223041534\n",
      "Batch 2900 LR: 0.029927115673617735 Training loss: 0.017290720716118813\n",
      "Batch 3000 LR: 0.029629321081605427 Training loss: 0.014040238223969936\n",
      "Batch 3100 LR: 0.02933448974271779 Training loss: 0.02012765035033226\n",
      "Batch 3200 LR: 0.029042592170626592 Training loss: 0.01995989680290222\n",
      "Batch 3300 LR: 0.02875359917241208 Training loss: 0.026994049549102783\n",
      "Batch 3400 LR: 0.028467481845643353 Training loss: 0.018372103571891785\n",
      "Batch 3500 LR: 0.028184211575487842 Training loss: 0.013544905930757523\n",
      "Batch 3600 LR: 0.027903760031849426 Training loss: 0.02376621961593628\n",
      "Batch 3700 LR: 0.027626099166535245 Training loss: 0.02818927727639675\n",
      "Batch 3800 LR: 0.02735120121045047 Training loss: 0.017162704840302467\n",
      "Batch 3900 LR: 0.027079038670821134 Training loss: 0.01937653124332428\n",
      "Batch 4000 LR: 0.026809584328444543 Training loss: 0.019624076783657074\n",
      "Batch 4100 LR: 0.026542811234967087 Training loss: 0.020753156393766403\n",
      "Batch 4200 LR: 0.02627869271018908 Training loss: 0.026211213320493698\n",
      "Batch 4300 LR: 0.026017202339396483 Training loss: 0.015360511839389801\n",
      "Batch 4400 LR: 0.02575831397071912 Training loss: 0.018890731036663055\n",
      "Batch 4500 LR: 0.025502001712515182 Training loss: 0.016401279717683792\n",
      "Batch 4600 LR: 0.0252482399307819 Training loss: 0.02063026651740074\n",
      "Batch 4700 LR: 0.024997003246591695 Training loss: 0.014982121996581554\n",
      "Batch 4800 LR: 0.024748266533554192 Training loss: 0.013388578779995441\n",
      "Batch 4900 LR: 0.02450200491530313 Training loss: 0.022183259949088097\n",
      "Batch 5000 LR: 0.024258193763008612 Training loss: 0.013361429795622826\n",
      "Batch 5100 LR: 0.024016808692913835 Training loss: 0.01310815941542387\n",
      "Batch 5200 LR: 0.02377782556389653 Training loss: 0.025931712239980698\n",
      "Batch 5300 LR: 0.023541220475054556 Training loss: 0.015678854659199715\n",
      "Batch 5400 LR: 0.02330696976331556 Training loss: 0.07419627159833908\n",
      "Batch 5500 LR: 0.023075050001070376 Training loss: 0.026543673127889633\n",
      "Batch 5600 LR: 0.022845437993830067 Training loss: 0.012209244072437286\n",
      "Batch 5700 LR: 0.022618110777906212 Training loss: 0.02435038983821869\n",
      "Batch 5800 LR: 0.02239304561811424 Training loss: 0.020762447267770767\n",
      "Batch 5900 LR: 0.022170220005499716 Training loss: 0.016135089099407196\n",
      "Batch 6000 LR: 0.02194961165508723 Training loss: 0.013684483245015144\n",
      "Batch 6100 LR: 0.021731198503651544 Training loss: 0.02031172811985016\n",
      "Batch 6200 LR: 0.021514958707511137 Training loss: 0.01889253407716751\n",
      "Batch 6300 LR: 0.021300870640343573 Training loss: 0.02684227004647255\n",
      "Batch 6400 LR: 0.02108891289102262 Training loss: 0.004231514409184456\n",
      "Batch 6500 LR: 0.02087906426147689 Training loss: 0.012935690581798553\n",
      "Batch 6600 LR: 0.020671303764569857 Training loss: 0.015821926295757294\n",
      "Batch 6700 LR: 0.02046561062200085 Training loss: 0.011225719004869461\n",
      "Batch 6800 LR: 0.020261964262227053 Training loss: 0.02835054136812687\n",
      "Batch 6900 LR: 0.02006034431840611 Training loss: 0.01566857472062111\n",
      "Batch 7000 LR: 0.019860730626359194 Training loss: 0.01226310059428215\n",
      "Batch 7100 LR: 0.019663103222554393 Training loss: 0.024526212364435196\n",
      "Batch 7200 LR: 0.019467442342110165 Training loss: 0.032950080931186676\n",
      "Batch 7300 LR: 0.019273728416818587 Training loss: 0.007804283872246742\n",
      "Batch 7400 LR: 0.019081942073188345 Training loss: 0.017272692173719406\n",
      "Batch 7500 LR: 0.018892064130507185 Training loss: 0.009649368934333324\n",
      "Batch 7600 LR: 0.018704075598923616 Training loss: 0.011030711233615875\n",
      "Batch 7700 LR: 0.01851795767754777 Training loss: 0.01389351487159729\n",
      "Batch 7800 LR: 0.018333691752570963 Training loss: 0.018191702663898468\n",
      "Batch 7900 LR: 0.018151259395404344 Training loss: 0.009221266023814678\n",
      "Batch 8000 LR: 0.01797064236083563 Training loss: 0.014616475440561771\n",
      "Batch 8100 LR: 0.01779182258520447 Training loss: 0.021013053134083748\n",
      "Batch 8200 LR: 0.0176147821845959 Training loss: 0.016608312726020813\n",
      "Batch 8300 LR: 0.017439503453051727 Training loss: 0.010840595699846745\n",
      "Batch 8400 LR: 0.017265968860799747 Training loss: 0.011216631159186363\n",
      "Batch 8500 LR: 0.01709416105250062 Training loss: 0.02390523999929428\n",
      "Batch 8600 LR: 0.016924062845512042 Training loss: 0.01841592788696289\n",
      "Batch 8700 LR: 0.016755657228170417 Training loss: 0.006944218650460243\n",
      "Batch 8800 LR: 0.016588927358089433 Training loss: 0.025630269199609756\n",
      "Batch 8900 LR: 0.01642385656047565 Training loss: 0.012832935899496078\n",
      "Batch 9000 LR: 0.01626042832646086 Training loss: 0.023918267339468002\n",
      "Batch 9100 LR: 0.016098626311450988 Training loss: 0.038002751767635345\n",
      "Batch 9200 LR: 0.015938434333491583 Training loss: 0.016068238765001297\n",
      "Batch 9300 LR: 0.01577983637164919 Training loss: 0.01546735130250454\n",
      "Batch 9400 LR: 0.015622816564409345 Training loss: 0.014743653126060963\n",
      "Batch 9500 LR: 0.015467359208090082 Training loss: 0.016342591494321823\n",
      "Batch 9600 LR: 0.015313448755271488 Training loss: 0.006400317419320345\n",
      "Batch 9700 LR: 0.015161069813240755 Training loss: 0.01217805128544569\n",
      "Batch 9800 LR: 0.015010207142452736 Training loss: 0.012601521797478199\n",
      "Batch 9900 LR: 0.014860845655005839 Training loss: 0.02123304083943367\n"
     ]
    }
   ],
   "source": [
    "losses = []\n",
    "batch_idx = []\n",
    "for i_batch in range(num_batchs):\n",
    "    optim.optimizer.zero_grad()\n",
    "    \n",
    "    noise, targets = generate_batch(batch_size, input_params)\n",
    "    \n",
    "    pred, hs  = gru(noise)\n",
    "    train_loss = loss(pred, targets)\n",
    "    \n",
    "    losses.append(train_loss.item())\n",
    "    batch_idx.append(i_batch)\n",
    "    \n",
    "    train_loss.backward()\n",
    "    torch.nn.utils.clip_grad_norm_(gru.parameters(),max_grad_norm)\n",
    "    optim.step()\n",
    "    optim.optimizer.step()\n",
    "    \n",
    "    \n",
    "    if i_batch % print_every == 0:\n",
    "        print(\"Batch\", i_batch, \n",
    "                \"LR:\" , optim.optimizer.param_groups[0]['lr'], \n",
    "              \"Training loss:\", train_loss.item())\n",
    "\n",
    "        \n",
    "    \n"
   ]
  },
  {
   "cell_type": "code",
   "execution_count": 32,
   "metadata": {},
   "outputs": [
    {
     "data": {
      "text/plain": [
       "Text(0, 0.5, 'Training loss')"
      ]
     },
     "execution_count": 32,
     "metadata": {},
     "output_type": "execute_result"
    },
    {
     "data": {
      "image/png": "[encoded data removed]",
      "text/plain": [
       "<Figure size 432x288 with 1 Axes>"
      ]
     },
     "metadata": {
      "needs_background": "light"
     },
     "output_type": "display_data"
    }
   ],
   "source": [
    "plt.plot(batch_idx, losses)\n",
    "plt.xlabel('Batch')\n",
    "plt.ylabel('Training loss')"
   ]
  },
  {
   "cell_type": "code",
   "execution_count": 33,
   "metadata": {},
   "outputs": [
    {
     "name": "stdout",
     "output_type": "stream",
     "text": [
      "Loss on a new large batch: 0.012027828022837639\n"
     ]
    }
   ],
   "source": [
    "noise, targets = generate_batch(eval_batch_size, input_params)\n",
    "pred, hiddens  = gru(noise)\n",
    "print(\"Loss on a new large batch: {}\".format(loss(pred, targets).item())) "
   ]
  },
  {
   "cell_type": "markdown",
   "metadata": {},
   "source": [
    "## Fixed points"
   ]
  },
  {
   "cell_type": "code",
   "execution_count": 34,
   "metadata": {},
   "outputs": [],
   "source": [
    "# Fixed point optimization hyperparameters\n",
    "fp_num_batches = 10000         # Total number of batches to train on.\n",
    "fp_batch_size = 512        # How many examples in each batch\n",
    "fp_step_size = 0.2          # initial learning rate\n",
    "fp_decay_factor = 0.9999     # decay the learning rate this much\n",
    "fp_decay_steps = 1           #\n",
    "fp_adam_b1 = 0.9             # Adam parameters\n",
    "fp_adam_b2 = 0.999\n",
    "fp_adam_eps = 1e-5\n",
    "fp_opt_print_every = 200   # Print training information during optimziation every so often\n",
    "\n",
    "# Fixed point finding thresholds and other HPs\n",
    "fp_noise_var = 0.0      # Gaussian noise added to fixed point candidates before optimization.\n",
    "fp_opt_stop_tol = 0.00001  # Stop optimizing when the average value of the batch is below this value.\n",
    "fp_tol = 0.00001        # Discard fps with squared speed larger than this value.\n",
    "fp_unique_tol = 0.025   # tolerance for determination of identical fixed points\n",
    "fp_outlier_tol = 1.0    # Anypoint whos closest fixed point is greater than tol is an outlier."
   ]
  },
  {
   "cell_type": "code",
   "execution_count": 35,
   "metadata": {},
   "outputs": [
    {
     "data": {
      "text/plain": [
       "torch.Size([25, 400, 100])"
      ]
     },
     "execution_count": 35,
     "metadata": {},
     "output_type": "execute_result"
    }
   ],
   "source": [
    "gru = gru.to('cuda')\n",
    "noise, targets = generate_batch(400, input_params)\n",
    "_, hiddens = gru(noise)\n",
    "hiddens.shape"
   ]
  },
  {
   "cell_type": "code",
   "execution_count": 36,
   "metadata": {},
   "outputs": [
    {
     "name": "stdout",
     "output_type": "stream",
     "text": [
      "Optimising to find fixed points\n",
      "Optimising to find 10000 fixed points\n",
      "Batches 3132-3644 in 0.00, Training loss 0.0003, LR 0.2000\n"
     ]
    },
    {
     "name": "stderr",
     "output_type": "stream",
     "text": [
      "/home/lucas/anaconda3/lib/python3.7/site-packages/torch/optim/lr_scheduler.py:224: UserWarning: To get the last learning rate computed by the scheduler, please use `get_last_lr()`.\n",
      "  warnings.warn(\"To get the last learning rate computed by the scheduler, \"\n"
     ]
    },
    {
     "name": "stdout",
     "output_type": "stream",
     "text": [
      "kept 8671/10000 with speed check\n",
      "kept 6590/8671 with uniqueness check\n",
      "kept 6590/6590 with outlier check\n",
      "Optimising to find fixed points\n",
      "Optimising to find 10000 fixed points\n",
      "Batches 2082-2594 in 0.00, Training loss 0.0001, LR 0.2000\n",
      "kept 8321/10000 with speed check\n",
      "kept 1433/8321 with uniqueness check\n",
      "kept 1433/1433 with outlier check\n",
      "Optimising to find fixed points\n",
      "Optimising to find 10000 fixed points\n",
      "Batches 9084-9596 in 0.00, Training loss 0.0000, LR 0.2000\n",
      "Batches 5699-6211 in 0.00, Training loss 0.0000, LR 0.2000\n",
      "Batches 5575-6087 in 0.00, Training loss 0.0000, LR 0.2000\n",
      "Batches 4546-5058 in 0.00, Training loss 0.0000, LR 0.2000\n",
      "Batches 3990-4502 in 0.00, Training loss 0.0000, LR 0.2000\n",
      "Batches 6353-6865 in 0.00, Training loss 0.0000, LR 0.2000\n",
      "Batches 9303-9815 in 0.00, Training loss 0.0000, LR 0.2000\n",
      "Batches 6293-6805 in 0.00, Training loss 0.0000, LR 0.2000\n",
      "Batches 6464-6976 in 0.00, Training loss 0.0000, LR 0.2000\n",
      "Batches 6952-7464 in 0.00, Training loss 0.0000, LR 0.2000\n",
      "kept 6821/10000 with speed check\n",
      "kept 131/6821 with uniqueness check\n",
      "kept 131/131 with outlier check\n"
     ]
    }
   ],
   "source": [
    "p_tols = [0.0001, 0.00001, 0.000001] # Used for both fp_tol and opt_stop_tol\n",
    "fp_dict = {}\n",
    "for tol in p_tols:\n",
    "    opt_params = {\n",
    "    'num_batches' : fp_num_batches, \n",
    "    'batch_size' : fp_batch_size,\n",
    "      'step_size' : fp_step_size, \n",
    "      'decay_factor' : fp_decay_factor, \n",
    "      'decay_steps' : fp_decay_steps, \n",
    "      'adam_b1' : fp_adam_b1, 'adam_b2' : fp_adam_b2, 'adam_eps' : fp_adam_eps,\n",
    "      'noise_var' : fp_noise_var, \n",
    "      'fp_opt_stop_tol' : tol, \n",
    "      'fp_tol' : tol, \n",
    "      'unique_tol' : fp_unique_tol, \n",
    "      'outlier_tol' : fp_outlier_tol, \n",
    "      'opt_print_every' : fp_opt_print_every\n",
    "    }\n",
    "\n",
    "\n",
    "    candidates = hiddens.view(-1, 100)\n",
    "    fp_dict[tol] = find_fps(gru.gru, torch.nn.Parameter(candidates), opt_params, device='cuda')    \n",
    "    \n",
    "        "
   ]
  },
  {
   "cell_type": "code",
   "execution_count": 37,
   "metadata": {},
   "outputs": [],
   "source": [
    "for tol in p_tols:\n",
    "    torch.save(fp_dict[tol], f\"fps_{tol}.pt\")"
   ]
  },
  {
   "cell_type": "code",
   "execution_count": 20,
   "metadata": {},
   "outputs": [
    {
     "data": {
      "image/png": "[encoded data removed]",
      "text/plain": [
       "<Figure size 864x432 with 1 Axes>"
      ]
     },
     "metadata": {
      "needs_background": "light"
     },
     "output_type": "display_data"
    },
    {
     "data": {
      "image/png": "[encoded data removed]",
      "text/plain": [
       "<Figure size 864x288 with 3 Axes>"
      ]
     },
     "metadata": {
      "needs_background": "light"
     },
     "output_type": "display_data"
    }
   ],
   "source": [
    "f1 = plt.figure(figsize=(12,6))\n",
    "\n",
    "for tol in p_tols: \n",
    "    plt.semilogy(sorted(fp_dict[tol][1].detach().cpu())); \n",
    "    plt.xlabel('Fixed point #')\n",
    "    plt.ylabel('Fixed point loss');\n",
    "plt.legend(p_tols)\n",
    "plt.title('Fixed point loss by fixed point (sorted) and stop tolerance')\n",
    "\n",
    "f2 = plt.figure(figsize=(12,4))\n",
    "\n",
    "pidx = 1\n",
    "nfp_tols = len(p_tols)\n",
    "for tol_idx, tol in enumerate(p_tols):\n",
    "    plt.subplot(1, nfp_tols, pidx); pidx += 1\n",
    "    plt.hist(np.log10(fp_dict[tol][1].detach().cpu()), 50)\n",
    "    plt.xlabel('log10(FP loss)')\n",
    "    plt.title('Tolerance: ' + str(tol))"
   ]
  },
  {
   "cell_type": "code",
   "execution_count": 21,
   "metadata": {},
   "outputs": [],
   "source": [
    "fps = fp_dict[0.00001][0].cpu()\n",
    "gru = gru.to('cpu')"
   ]
  },
  {
   "cell_type": "code",
   "execution_count": 217,
   "metadata": {},
   "outputs": [],
   "source": [
    "%matplotlib qt"
   ]
  },
  {
   "cell_type": "code",
   "execution_count": 243,
   "metadata": {},
   "outputs": [],
   "source": [
    "from sklearn.decomposition import PCA\n",
    "from mpl_toolkits.mplot3d import Axes3D\n",
    "from matplotlib.animation import FuncAnimation\n",
    "fig = plt.figure(figsize=(16,16));\n",
    "ax = fig.add_subplot(111, projection='3d');\n",
    "\n",
    "pca = PCA(n_components=3).fit(fp_candidates)\n",
    "\n",
    "\n",
    "max_fps_to_plot = 1000\n",
    "sizes = [100, 500]\n",
    "\n",
    "hiddens = candidates.detach().cpu()\n",
    "\n",
    "h_pca = pca.transform(hiddens)\n",
    "\n",
    "emax = h_pca.shape[0] if h_pca.shape[0] < max_fps_to_plot else max_fps_to_plot\n",
    "\n",
    "alpha = 0.01\n",
    "#ax.scatter(h_pca[0:emax,0], h_pca[0:emax,1], h_pca[0:emax,2], color=[0, 0, 0, 0.1], s=10)\n",
    "\n",
    "hstars = np.reshape(fps, (-1, n))\n",
    "hstar_pca = pca.transform(hstars)\n",
    "color = np.squeeze(gru.readout(hstars)).detach()\n",
    "color = np.where(color > 1.0, 1.0, color)\n",
    "color = np.where(color < -1.0, -1.0, color)\n",
    "color = (color + 1.0) / 2.0    \n",
    "\n",
    "marker_style = dict(marker='*', s=200, edgecolor='gray')\n",
    "\n",
    "ax.scatter(hstar_pca[0:emax,0], hstar_pca[0:emax,1], hstar_pca[0:emax,2], \n",
    "            c=color[0:emax], **marker_style);\n",
    "\n",
    "for eidx in range(emax):\n",
    "    ax.plot3D([h_pca[eidx,0], hstar_pca[eidx,0]], \n",
    "              [h_pca[eidx,1], hstar_pca[eidx,1]],\n",
    "              [h_pca[eidx,2], hstar_pca[eidx,2]], c=[0, 0, 1, alpha])    \n",
    "\n",
    "plt.title('Fixed point structure and fixed point candidate starting points.');\n",
    "ax.set_xlabel('PC 1')\n",
    "ax.set_ylabel('PC 2')\n",
    "ax.set_zlabel('PC 3');\n",
    "\n",
    "def update(i):\n",
    "    angle = np.arange(360)[i]\n",
    "    ax.view_init(15, angle)\n",
    "    plt.draw()\n",
    "    plt.pause(.00001)\n",
    "    \n",
    "\n",
    "anim = FuncAnimation(fig, update, frames=np.arange(0, 60), interval=0.01)\n",
    "anim.save('/media/STORAGE10TB/lucas/line.gif', dpi=50, writer='imagemagick')\n",
    "\n",
    "\n",
    "        \n"
   ]
  },
  {
   "cell_type": "code",
   "execution_count": null,
   "metadata": {},
   "outputs": [],
   "source": []
  },
  {
   "cell_type": "code",
   "execution_count": 259,
   "metadata": {},
   "outputs": [],
   "source": [
    "readouts = gru.readout(fps).cpu().detach().numpy().squeeze()\n",
    "\n",
    "\n",
    "sorted_idcs = np.argsort(readouts, axis=0)"
   ]
  },
  {
   "cell_type": "code",
   "execution_count": 258,
   "metadata": {},
   "outputs": [
    {
     "data": {
      "text/plain": [
       "(10000,)"
      ]
     },
     "execution_count": 258,
     "metadata": {},
     "output_type": "execute_result"
    }
   ],
   "source": [
    "readouts[sorted_idcs].shape"
   ]
  },
  {
   "cell_type": "code",
   "execution_count": 261,
   "metadata": {},
   "outputs": [],
   "source": [
    "sorted_idxs = np.argsort(readouts, axis=0).squeeze()\n",
    "sorted_fps = hstar_pca[sorted_idxs]"
   ]
  },
  {
   "cell_type": "code",
   "execution_count": 262,
   "metadata": {},
   "outputs": [],
   "source": [
    "from sklearn.decomposition import PCA\n",
    "from mpl_toolkits.mplot3d import Axes3D"
   ]
  },
  {
   "cell_type": "code",
   "execution_count": 263,
   "metadata": {},
   "outputs": [],
   "source": [
    "pca = PCA(3).fit(sorted_fps)\n",
    "pc_fps = sorted_fps\n"
   ]
  },
  {
   "cell_type": "code",
   "execution_count": 270,
   "metadata": {},
   "outputs": [
    {
     "data": {
      "text/plain": [
       "<mpl_toolkits.mplot3d.art3d.Path3DCollection at 0x7f1b4fc397d0>"
      ]
     },
     "execution_count": 270,
     "metadata": {},
     "output_type": "execute_result"
    },
    {
     "data": {
      "image/png": "[encoded data removed]",
      "text/plain": [
       "<Figure size 432x288 with 1 Axes>"
      ]
     },
     "metadata": {
      "needs_background": "light"
     },
     "output_type": "display_data"
    }
   ],
   "source": [
    "ax = plt.subplot(111, projection='3d')\n",
    "ax.scatter(pc_fps.T[0], pc_fps.T[1], c=readouts[sorted_idxs].squeeze())\n"
   ]
  },
  {
   "cell_type": "code",
   "execution_count": 286,
   "metadata": {},
   "outputs": [
    {
     "ename": "RuntimeError",
     "evalue": "input has inconsistent input_size: got 100, expected 1",
     "output_type": "error",
     "traceback": [
      "\u001b[0;31m---------------------------------------------------------------------------\u001b[0m",
      "\u001b[0;31mRuntimeError\u001b[0m                              Traceback (most recent call last)",
      "\u001b[0;32m<ipython-input-286-bf9f82effda8>\u001b[0m in \u001b[0;36m<module>\u001b[0;34m\u001b[0m\n\u001b[1;32m      1\u001b[0m \u001b[0mgru\u001b[0m \u001b[0;34m=\u001b[0m \u001b[0mgru\u001b[0m\u001b[0;34m.\u001b[0m\u001b[0mcuda\u001b[0m\u001b[0;34m(\u001b[0m\u001b[0;34m)\u001b[0m\u001b[0;34m\u001b[0m\u001b[0;34m\u001b[0m\u001b[0m\n\u001b[1;32m      2\u001b[0m \u001b[0mfps\u001b[0m \u001b[0;34m=\u001b[0m \u001b[0mfps\u001b[0m\u001b[0;34m.\u001b[0m\u001b[0mcuda\u001b[0m\u001b[0;34m(\u001b[0m\u001b[0;34m)\u001b[0m\u001b[0;34m\u001b[0m\u001b[0;34m\u001b[0m\u001b[0m\n\u001b[0;32m----> 3\u001b[0;31m \u001b[0mjacs\u001b[0m \u001b[0;34m=\u001b[0m \u001b[0mdynamics\u001b[0m\u001b[0;34m.\u001b[0m\u001b[0mcompute_jacobians\u001b[0m\u001b[0;34m(\u001b[0m\u001b[0mgru\u001b[0m\u001b[0;34m.\u001b[0m\u001b[0mgru\u001b[0m\u001b[0;34m,\u001b[0m \u001b[0mfps\u001b[0m\u001b[0;34m,\u001b[0m \u001b[0;36m100\u001b[0m\u001b[0;34m)\u001b[0m\u001b[0;34m\u001b[0m\u001b[0;34m\u001b[0m\u001b[0m\n\u001b[0m",
      "\u001b[0;32m~/Documents/TorchDynamics/notebooks/torch_fp/dynamics.py\u001b[0m in \u001b[0;36mcompute_jacobians\u001b[0;34m(net, x, noutputs)\u001b[0m\n\u001b[1;32m     14\u001b[0m     \u001b[0mx\u001b[0m \u001b[0;34m=\u001b[0m \u001b[0mx\u001b[0m\u001b[0;34m.\u001b[0m\u001b[0mrepeat\u001b[0m\u001b[0;34m(\u001b[0m\u001b[0mnoutputs\u001b[0m\u001b[0;34m,\u001b[0m \u001b[0;36m1\u001b[0m\u001b[0;34m)\u001b[0m\u001b[0;34m\u001b[0m\u001b[0;34m\u001b[0m\u001b[0m\n\u001b[1;32m     15\u001b[0m     \u001b[0mx\u001b[0m\u001b[0;34m.\u001b[0m\u001b[0mrequires_grad_\u001b[0m\u001b[0;34m(\u001b[0m\u001b[0;32mTrue\u001b[0m\u001b[0;34m)\u001b[0m\u001b[0;34m\u001b[0m\u001b[0;34m\u001b[0m\u001b[0m\n\u001b[0;32m---> 16\u001b[0;31m     \u001b[0my\u001b[0m \u001b[0;34m=\u001b[0m \u001b[0mnet\u001b[0m\u001b[0;34m(\u001b[0m\u001b[0mx\u001b[0m\u001b[0;34m)\u001b[0m\u001b[0;34m\u001b[0m\u001b[0;34m\u001b[0m\u001b[0m\n\u001b[0m\u001b[1;32m     17\u001b[0m     \u001b[0my\u001b[0m\u001b[0;34m.\u001b[0m\u001b[0mbackward\u001b[0m\u001b[0;34m(\u001b[0m\u001b[0mtorch\u001b[0m\u001b[0;34m.\u001b[0m\u001b[0meye\u001b[0m\u001b[0;34m(\u001b[0m\u001b[0mnoutputs\u001b[0m\u001b[0;34m)\u001b[0m\u001b[0;34m)\u001b[0m\u001b[0;34m\u001b[0m\u001b[0;34m\u001b[0m\u001b[0m\n\u001b[1;32m     18\u001b[0m     \u001b[0;32mreturn\u001b[0m \u001b[0mx\u001b[0m\u001b[0;34m.\u001b[0m\u001b[0mgrad\u001b[0m\u001b[0;34m.\u001b[0m\u001b[0mdata\u001b[0m\u001b[0;34m\u001b[0m\u001b[0;34m\u001b[0m\u001b[0m\n",
      "\u001b[0;32m~/anaconda3/lib/python3.7/site-packages/torch/nn/modules/module.py\u001b[0m in \u001b[0;36m__call__\u001b[0;34m(self, *input, **kwargs)\u001b[0m\n\u001b[1;32m    530\u001b[0m             \u001b[0mresult\u001b[0m \u001b[0;34m=\u001b[0m \u001b[0mself\u001b[0m\u001b[0;34m.\u001b[0m\u001b[0m_slow_forward\u001b[0m\u001b[0;34m(\u001b[0m\u001b[0;34m*\u001b[0m\u001b[0minput\u001b[0m\u001b[0;34m,\u001b[0m \u001b[0;34m**\u001b[0m\u001b[0mkwargs\u001b[0m\u001b[0;34m)\u001b[0m\u001b[0;34m\u001b[0m\u001b[0;34m\u001b[0m\u001b[0m\n\u001b[1;32m    531\u001b[0m         \u001b[0;32melse\u001b[0m\u001b[0;34m:\u001b[0m\u001b[0;34m\u001b[0m\u001b[0;34m\u001b[0m\u001b[0m\n\u001b[0;32m--> 532\u001b[0;31m             \u001b[0mresult\u001b[0m \u001b[0;34m=\u001b[0m \u001b[0mself\u001b[0m\u001b[0;34m.\u001b[0m\u001b[0mforward\u001b[0m\u001b[0;34m(\u001b[0m\u001b[0;34m*\u001b[0m\u001b[0minput\u001b[0m\u001b[0;34m,\u001b[0m \u001b[0;34m**\u001b[0m\u001b[0mkwargs\u001b[0m\u001b[0;34m)\u001b[0m\u001b[0;34m\u001b[0m\u001b[0;34m\u001b[0m\u001b[0m\n\u001b[0m\u001b[1;32m    533\u001b[0m         \u001b[0;32mfor\u001b[0m \u001b[0mhook\u001b[0m \u001b[0;32min\u001b[0m \u001b[0mself\u001b[0m\u001b[0;34m.\u001b[0m\u001b[0m_forward_hooks\u001b[0m\u001b[0;34m.\u001b[0m\u001b[0mvalues\u001b[0m\u001b[0;34m(\u001b[0m\u001b[0;34m)\u001b[0m\u001b[0;34m:\u001b[0m\u001b[0;34m\u001b[0m\u001b[0;34m\u001b[0m\u001b[0m\n\u001b[1;32m    534\u001b[0m             \u001b[0mhook_result\u001b[0m \u001b[0;34m=\u001b[0m \u001b[0mhook\u001b[0m\u001b[0;34m(\u001b[0m\u001b[0mself\u001b[0m\u001b[0;34m,\u001b[0m \u001b[0minput\u001b[0m\u001b[0;34m,\u001b[0m \u001b[0mresult\u001b[0m\u001b[0;34m)\u001b[0m\u001b[0;34m\u001b[0m\u001b[0;34m\u001b[0m\u001b[0m\n",
      "\u001b[0;32m~/anaconda3/lib/python3.7/site-packages/torch/nn/modules/rnn.py\u001b[0m in \u001b[0;36mforward\u001b[0;34m(self, input, hx)\u001b[0m\n\u001b[1;32m   1013\u001b[0m     \u001b[0;32mdef\u001b[0m \u001b[0mforward\u001b[0m\u001b[0;34m(\u001b[0m\u001b[0mself\u001b[0m\u001b[0;34m,\u001b[0m \u001b[0minput\u001b[0m\u001b[0;34m,\u001b[0m \u001b[0mhx\u001b[0m\u001b[0;34m=\u001b[0m\u001b[0;32mNone\u001b[0m\u001b[0;34m)\u001b[0m\u001b[0;34m:\u001b[0m\u001b[0;34m\u001b[0m\u001b[0;34m\u001b[0m\u001b[0m\n\u001b[1;32m   1014\u001b[0m         \u001b[0;31m# type: (Tensor, Optional[Tensor]) -> Tensor\u001b[0m\u001b[0;34m\u001b[0m\u001b[0;34m\u001b[0m\u001b[0;34m\u001b[0m\u001b[0m\n\u001b[0;32m-> 1015\u001b[0;31m         \u001b[0mself\u001b[0m\u001b[0;34m.\u001b[0m\u001b[0mcheck_forward_input\u001b[0m\u001b[0;34m(\u001b[0m\u001b[0minput\u001b[0m\u001b[0;34m)\u001b[0m\u001b[0;34m\u001b[0m\u001b[0;34m\u001b[0m\u001b[0m\n\u001b[0m\u001b[1;32m   1016\u001b[0m         \u001b[0;32mif\u001b[0m \u001b[0mhx\u001b[0m \u001b[0;32mis\u001b[0m \u001b[0;32mNone\u001b[0m\u001b[0;34m:\u001b[0m\u001b[0;34m\u001b[0m\u001b[0;34m\u001b[0m\u001b[0m\n\u001b[1;32m   1017\u001b[0m             \u001b[0mhx\u001b[0m \u001b[0;34m=\u001b[0m \u001b[0mtorch\u001b[0m\u001b[0;34m.\u001b[0m\u001b[0mzeros\u001b[0m\u001b[0;34m(\u001b[0m\u001b[0minput\u001b[0m\u001b[0;34m.\u001b[0m\u001b[0msize\u001b[0m\u001b[0;34m(\u001b[0m\u001b[0;36m0\u001b[0m\u001b[0;34m)\u001b[0m\u001b[0;34m,\u001b[0m \u001b[0mself\u001b[0m\u001b[0;34m.\u001b[0m\u001b[0mhidden_size\u001b[0m\u001b[0;34m,\u001b[0m \u001b[0mdtype\u001b[0m\u001b[0;34m=\u001b[0m\u001b[0minput\u001b[0m\u001b[0;34m.\u001b[0m\u001b[0mdtype\u001b[0m\u001b[0;34m,\u001b[0m \u001b[0mdevice\u001b[0m\u001b[0;34m=\u001b[0m\u001b[0minput\u001b[0m\u001b[0;34m.\u001b[0m\u001b[0mdevice\u001b[0m\u001b[0;34m)\u001b[0m\u001b[0;34m\u001b[0m\u001b[0;34m\u001b[0m\u001b[0m\n",
      "\u001b[0;32m~/anaconda3/lib/python3.7/site-packages/torch/nn/modules/rnn.py\u001b[0m in \u001b[0;36mcheck_forward_input\u001b[0;34m(self, input)\u001b[0m\n\u001b[1;32m    759\u001b[0m             raise RuntimeError(\n\u001b[1;32m    760\u001b[0m                 \"input has inconsistent input_size: got {}, expected {}\".format(\n\u001b[0;32m--> 761\u001b[0;31m                     input.size(1), self.input_size))\n\u001b[0m\u001b[1;32m    762\u001b[0m \u001b[0;34m\u001b[0m\u001b[0m\n\u001b[1;32m    763\u001b[0m     \u001b[0;32mdef\u001b[0m \u001b[0mcheck_forward_hidden\u001b[0m\u001b[0;34m(\u001b[0m\u001b[0mself\u001b[0m\u001b[0;34m,\u001b[0m \u001b[0minput\u001b[0m\u001b[0;34m,\u001b[0m \u001b[0mhx\u001b[0m\u001b[0;34m,\u001b[0m \u001b[0mhidden_label\u001b[0m\u001b[0;34m=\u001b[0m\u001b[0;34m''\u001b[0m\u001b[0;34m)\u001b[0m\u001b[0;34m:\u001b[0m\u001b[0;34m\u001b[0m\u001b[0;34m\u001b[0m\u001b[0m\n",
      "\u001b[0;31mRuntimeError\u001b[0m: input has inconsistent input_size: got 100, expected 1"
     ]
    }
   ],
   "source": [
    "\n",
    "gru = gru.cuda()\n",
    "fps = fps.cuda()\n",
    "jacs = dynamics.compute_jacobians(gru.gru, fps, 100)"
   ]
  },
  {
   "cell_type": "code",
   "execution_count": 272,
   "metadata": {},
   "outputs": [
    {
     "data": {
      "text/plain": [
       "torch.Size([10000, 100])"
      ]
     },
     "execution_count": 272,
     "metadata": {},
     "output_type": "execute_result"
    }
   ],
   "source": [
    "fps.shape"
   ]
  },
  {
   "cell_type": "code",
   "execution_count": null,
   "metadata": {},
   "outputs": [],
   "source": []
  }
 ],
 "metadata": {
  "kernelspec": {
   "display_name": "Python 3",
   "language": "python",
   "name": "python3"
  },
  "language_info": {
   "codemirror_mode": {
    "name": "ipython",
    "version": 3
   },
   "file_extension": ".py",
   "mimetype": "text/x-python",
   "name": "python",
   "nbconvert_exporter": "python",
   "pygments_lexer": "ipython3",
   "version": "3.7.4"
  }
 },
 "nbformat": 4,
 "nbformat_minor": 4
}
