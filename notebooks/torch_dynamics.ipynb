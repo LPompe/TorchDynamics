{
 "cells": [
  {
   "cell_type": "code",
   "execution_count": 1,
   "metadata": {},
   "outputs": [
    {
     "name": "stdout",
     "output_type": "stream",
     "text": [
      "Using matplotlib backend: Qt5Agg\n",
      "Populating the interactive namespace from numpy and matplotlib\n"
     ]
    }
   ],
   "source": [
    "import torch  \n",
    "%pylab"
   ]
  },
  {
   "cell_type": "code",
   "execution_count": 48,
   "metadata": {},
   "outputs": [],
   "source": [
    "T = 1.0          # Arbitrary amount time, roughly physiological.\n",
    "ntimesteps = 25  # Divide T into this many bins\n",
    "bval = 0.01      # bias value limit\n",
    "sval = 0.025     # standard deviation (before dividing by sqrt(dt))\n",
    "input_params = (bval, sval, T, ntimesteps)\n",
    "\n",
    "# GRU and task hyperparameters\n",
    "u = 1         # Number of inputs to the GRU\n",
    "n = 100       # Number of units in the GRU\n",
    "o = 1         # Number of outputs in the GRU\n",
    "\n",
    "# Optimization hyperparameters\n",
    "num_batchs = 10000        # Total number of batches to train on.\n",
    "batch_size = 128          # How many examples in each batch\n",
    "eval_batch_size = 1024    # How large a batch for evaluating the RNN\n",
    "step_size = 0.04          # initial learning rate\n",
    "decay_factor = 0.9999     # decay the learning rate this much\n",
    "# Gradient clipping is HUGELY important for training all RNN varieties\n",
    "max_grad_norm = 10.0      # max gradient norm before clipping, clip to this value.\n",
    "l2reg = 0.00002           # amount of L2 regularization on the weights\n",
    "adam_b1 = 0.9             # Adam parameters\n",
    "adam_b2 = 0.999\n",
    "adam_eps = 1e-1\n",
    "print_every = 100          # Print training informatino every so often"
   ]
  },
  {
   "cell_type": "code",
   "execution_count": 49,
   "metadata": {},
   "outputs": [],
   "source": [
    "def get_noise_dataset(input_params):\n",
    "    (bval, sval, T, ntimesteps) = input_params\n",
    "    normal = torch.distributions.normal.Normal(0, 1)\n",
    "    \n",
    "    dt = torch.FloatTensor([T/ntimesteps])\n",
    "    \n",
    "    bsample = normal.sample([1])\n",
    "    b = bval * 2. * (bsample - 0.5) \n",
    "    \n",
    "    stddev = sval / torch.sqrt(dt)\n",
    "    vsample = normal.sample([ntimesteps])\n",
    "    \n",
    "    noise = vsample * stddev\n",
    "    white_noise = noise + b\n",
    "    \n",
    "    true_integral = torch.cumsum(white_noise, 0)\n",
    "    final_target = torch.Tensor([1.0*((true_integral[-1] > 0.0)-0.5)])\n",
    "    \n",
    "    target_t = torch.zeros(true_integral.shape[0]-1)\n",
    "    targets_t = torch.cat([target_t, final_target], dim=0)\n",
    "    \n",
    "    return white_noise, targets_t\n",
    "    \n",
    "def generate_batch(batch_size, input_params):\n",
    "    \n",
    "    noises, targets = [], []\n",
    "    \n",
    "    for i in range(batch_size):\n",
    "        n, t = get_noise_dataset(input_params)\n",
    "        noises.append(n)\n",
    "        targets.append(t)\n",
    "        \n",
    "    return torch.stack(noises).transpose(1, 0)[:, :, None].cuda(), torch.stack(targets).transpose(1, 0)[:, :, None].cuda()\n",
    "    \n",
    "    \n",
    "    "
   ]
  },
  {
   "cell_type": "code",
   "execution_count": 50,
   "metadata": {},
   "outputs": [],
   "source": [
    "noise, target = get_noise_dataset(input_params)"
   ]
  },
  {
   "cell_type": "code",
   "execution_count": 51,
   "metadata": {},
   "outputs": [
    {
     "data": {
      "text/plain": [
       "[<matplotlib.lines.Line2D at 0x7f97dc042588>]"
      ]
     },
     "execution_count": 51,
     "metadata": {},
     "output_type": "execute_result"
    },
    {
     "data": {
      "image/png": "[encoded data removed]",
      "text/plain": [
       "<Figure size 432x288 with 2 Axes>"
      ]
     },
     "metadata": {
      "needs_background": "light"
     },
     "output_type": "display_data"
    }
   ],
   "source": [
    "ax = plt.subplot(211)\n",
    "ax.plot(noise.numpy())\n",
    "ax = plt.subplot(212)\n",
    "ax.plot(target.numpy())"
   ]
  },
  {
   "cell_type": "markdown",
   "metadata": {},
   "source": [
    "# GRU"
   ]
  },
  {
   "cell_type": "code",
   "execution_count": 215,
   "metadata": {},
   "outputs": [],
   "source": [
    "class Simple_GRU(torch.nn.Module):\n",
    "    \n",
    "    def __init__(self, u, n, o, use_cuda=True):\n",
    "        super(Simple_GRU, self).__init__()\n",
    "        self.gru = torch.nn.GRUCell(u, n)\n",
    "        self.readout = torch.nn.Linear(n, o)\n",
    "        self.init_s = torch.nn.Parameter(torch.randn(1,n))\n",
    "        \n",
    "        \n",
    "    def forward(self, x):\n",
    "        \n",
    "        hs = []\n",
    "        \n",
    "        batch_size = x.shape[1]\n",
    "        h = self.init_s.repeat((batch_size, 1))\n",
    "        for x_t in x:\n",
    "            h = self.gru(x_t, h)\n",
    "            hs.append(h)\n",
    "        out = self.readout(h)\n",
    "        \n",
    "        return out, torch.stack(hs)\n"
   ]
  },
  {
   "cell_type": "code",
   "execution_count": 196,
   "metadata": {},
   "outputs": [
    {
     "data": {
      "text/plain": [
       "torch.Size([100, 100])"
      ]
     },
     "execution_count": 196,
     "metadata": {},
     "output_type": "execute_result"
    }
   ],
   "source": [
    "\n",
    "gru.init_s.repeat((100, 1)).shape"
   ]
  },
  {
   "cell_type": "code",
   "execution_count": 149,
   "metadata": {},
   "outputs": [],
   "source": [
    "adam = torch.optim.Adam(gru.parameters(), \n",
    "                        step_size, \n",
    "                        (adam_b1, adam_b2), \n",
    "                        adam_eps,\n",
    "                       l2reg)\n",
    "optim = torch.optim.lr_scheduler.ExponentialLR(adam, decay_factor)"
   ]
  },
  {
   "cell_type": "code",
   "execution_count": 150,
   "metadata": {},
   "outputs": [],
   "source": [
    "noise, targets = generate_batch(batch_size, input_params)"
   ]
  },
  {
   "cell_type": "code",
   "execution_count": 151,
   "metadata": {},
   "outputs": [],
   "source": [
    "mse = torch.nn.MSELoss().cuda()\n",
    "def loss(pred, targets):\n",
    "    targets = targets[-1, :, :]\n",
    "    return mse(pred, targets)\n",
    "    "
   ]
  },
  {
   "cell_type": "code",
   "execution_count": 152,
   "metadata": {},
   "outputs": [
    {
     "data": {
      "text/plain": [
       "tensor(0.2799, device='cuda:0', grad_fn=<MseLossBackward>)"
      ]
     },
     "execution_count": 152,
     "metadata": {},
     "output_type": "execute_result"
    }
   ],
   "source": [
    "loss(gru(noise)[0], targets)"
   ]
  },
  {
   "cell_type": "code",
   "execution_count": 153,
   "metadata": {},
   "outputs": [
    {
     "name": "stderr",
     "output_type": "stream",
     "text": [
      "/home/lucas/anaconda3/envs/diss/lib/python3.6/site-packages/ipykernel_launcher.py:9: UserWarning: torch.nn.utils.clip_grad_norm is now deprecated in favor of torch.nn.utils.clip_grad_norm_.\n",
      "  if __name__ == '__main__':\n"
     ]
    },
    {
     "name": "stdout",
     "output_type": "stream",
     "text": [
      "0 0.039996000000000004 0.35535570979118347\n",
      "100 0.03959801335030015 0.21896807849407196\n",
      "200 0.03920398693095678 0.20208364725112915\n",
      "300 0.03881388133505894 0.210484579205513\n",
      "400 0.038427657547820473 0.18815505504608154\n",
      "500 0.03804527694267816 0.086219422519207\n",
      "600 0.037666701277428626 0.1056012213230133\n",
      "700 0.03729189269040369 0.08169206976890564\n",
      "800 0.036920813696683756 0.06691699475049973\n",
      "900 0.0365534271843491 0.056260425597429276\n",
      "1000 0.036189696410768024 0.040991246700286865\n",
      "1100 0.03582958499892238 0.04779032617807388\n",
      "1200 0.03547305693376938 0.08369410037994385\n",
      "1300 0.03512007655863975 0.05387963354587555\n",
      "1400 0.03477060857167165 0.029418211430311203\n",
      "1500 0.03442461802228005 0.04150514677166939\n",
      "1600 0.03408207030766145 0.038464393466711044\n",
      "1700 0.03374293116933307 0.035046808421611786\n",
      "1800 0.03340716668970668 0.031797558069229126\n",
      "1900 0.03307474328869652 0.03037354163825512\n",
      "2000 0.03274562772036086 0.032009005546569824\n",
      "2100 0.03241978706957714 0.045300669968128204\n",
      "2200 0.032097188748749964 0.024840736761689186\n",
      "2300 0.03177780049455205 0.023123718798160553\n",
      "2400 0.03146159036469761 0.027402184903621674\n",
      "2500 0.0311485267347477 0.053773652762174606\n",
      "2600 0.030838578294947485 0.020606866106390953\n",
      "2700 0.03053171404709485 0.020793607458472252\n",
      "2800 0.030227903301440325 0.03717613220214844\n",
      "2900 0.029927115673617735 0.019867658615112305\n",
      "3000 0.029629321081605427 0.024489406496286392\n",
      "3100 0.02933448974271779 0.024967581033706665\n",
      "3200 0.029042592170626592 0.02499331906437874\n",
      "3300 0.02875359917241208 0.014526642858982086\n",
      "3400 0.028467481845643353 0.015378521755337715\n",
      "3500 0.028184211575487842 0.021620748564600945\n",
      "3600 0.027903760031849426 0.016154708340764046\n",
      "3700 0.027626099166535245 0.018834112212061882\n",
      "3800 0.02735120121045047 0.014542106539011002\n",
      "3900 0.027079038670821134 0.020522668957710266\n",
      "4000 0.026809584328444543 0.033822935074567795\n",
      "4100 0.026542811234967087 0.014059877023100853\n",
      "4200 0.02627869271018908 0.012398522347211838\n",
      "4300 0.026017202339396483 0.04428601264953613\n",
      "4400 0.02575831397071912 0.019102761521935463\n",
      "4500 0.025502001712515182 0.018507670611143112\n",
      "4600 0.0252482399307819 0.01906062848865986\n",
      "4700 0.024997003246591695 0.01434403844177723\n",
      "4800 0.024748266533554192 0.016916582360863686\n",
      "4900 0.02450200491530313 0.014444436877965927\n",
      "5000 0.024258193763008612 0.022589050233364105\n",
      "5100 0.024016808692913835 0.01828376203775406\n",
      "5200 0.02377782556389653 0.029255252331495285\n",
      "5300 0.023541220475054556 0.027663903310894966\n",
      "5400 0.02330696976331556 0.026209238916635513\n",
      "5500 0.023075050001070376 0.027240172028541565\n",
      "5600 0.022845437993830067 0.01485086977481842\n",
      "5700 0.022618110777906212 0.012013116851449013\n",
      "5800 0.02239304561811424 0.01616501249372959\n",
      "5900 0.022170220005499716 0.016601460054516792\n",
      "6000 0.02194961165508723 0.016357719898223877\n",
      "6100 0.021731198503651544 0.012054109014570713\n",
      "6200 0.021514958707511137 0.020467465743422508\n",
      "6300 0.021300870640343573 0.013022526167333126\n",
      "6400 0.02108891289102262 0.028852898627519608\n",
      "6500 0.02087906426147689 0.018543776124715805\n",
      "6600 0.020671303764569857 0.013623878359794617\n",
      "6700 0.02046561062200085 0.01115460880100727\n",
      "6800 0.020261964262227053 0.007778190542012453\n",
      "6900 0.02006034431840611 0.009924245998263359\n",
      "7000 0.019860730626359194 0.015898773446679115\n",
      "7100 0.019663103222554393 0.010819964110851288\n",
      "7200 0.019467442342110165 0.016104867681860924\n",
      "7300 0.019273728416818587 0.01577289216220379\n",
      "7400 0.019081942073188345 0.07995392382144928\n",
      "7500 0.018892064130507185 0.006511798594146967\n",
      "7600 0.018704075598923616 0.03363103047013283\n",
      "7700 0.01851795767754777 0.018627867102622986\n",
      "7800 0.018333691752570963 0.012615558691322803\n",
      "7900 0.018151259395404344 0.010162053629755974\n",
      "8000 0.01797064236083563 0.0182340070605278\n",
      "8100 0.01779182258520447 0.009168349206447601\n",
      "8200 0.0176147821845959 0.020540818572044373\n",
      "8300 0.017439503453051727 0.016547000035643578\n",
      "8400 0.017265968860799747 0.02092122472822666\n",
      "8500 0.01709416105250062 0.024545393884181976\n",
      "8600 0.016924062845512042 0.01403114665299654\n",
      "8700 0.016755657228170417 0.013430863618850708\n",
      "8800 0.016588927358089433 0.0075251939706504345\n",
      "8900 0.01642385656047565 0.013531790114939213\n",
      "9000 0.01626042832646086 0.020323671400547028\n",
      "9100 0.016098626311450988 0.012631505727767944\n",
      "9200 0.015938434333491583 0.013113118708133698\n",
      "9300 0.01577983637164919 0.013018547557294369\n",
      "9400 0.015622816564409345 0.012506799772381783\n",
      "9500 0.015467359208090082 0.009507745504379272\n",
      "9600 0.015313448755271488 0.014806022867560387\n",
      "9700 0.015161069813240755 0.018651820719242096\n",
      "9800 0.015010207142452736 0.017780479043722153\n",
      "9900 0.014860845655005839 0.02826423943042755\n"
     ]
    }
   ],
   "source": [
    "for i_batch in range(num_batchs):\n",
    "    optim.optimizer.zero_grad()\n",
    "    \n",
    "    noise, targets = generate_batch(batch_size, input_params)\n",
    "    \n",
    "    pred, hs  = gru(noise)\n",
    "    train_loss = loss(pred, targets)\n",
    "    train_loss.backward()\n",
    "    torch.nn.utils.clip_grad_norm(gru.parameters(),max_grad_norm)\n",
    "    optim.step()\n",
    "    optim.optimizer.step()\n",
    "    if i_batch % print_every == 0:\n",
    "        print(i_batch, optim.optimizer.param_groups[0]['lr'], train_loss.item())\n",
    "\n",
    "        \n",
    "    \n"
   ]
  },
  {
   "cell_type": "code",
   "execution_count": 154,
   "metadata": {},
   "outputs": [
    {
     "data": {
      "text/plain": [
       "tensor(0.0203, device='cuda:0', grad_fn=<MseLossBackward>)"
      ]
     },
     "execution_count": 154,
     "metadata": {},
     "output_type": "execute_result"
    }
   ],
   "source": [
    "noise, targets = generate_batch(eval_batch_size, input_params)\n",
    "pred, hiddens  = gru(noise)\n",
    "loss(pred, targets)"
   ]
  },
  {
   "cell_type": "code",
   "execution_count": 155,
   "metadata": {},
   "outputs": [
    {
     "data": {
      "text/plain": [
       "torch.Size([25, 1024, 100])"
      ]
     },
     "execution_count": 155,
     "metadata": {},
     "output_type": "execute_result"
    }
   ],
   "source": [
    "hiddens.shape"
   ]
  },
  {
   "cell_type": "markdown",
   "metadata": {},
   "source": [
    "## Fixed points"
   ]
  },
  {
   "cell_type": "code",
   "execution_count": 325,
   "metadata": {},
   "outputs": [],
   "source": [
    "# Fixed point optimization hyperparameters\n",
    "fp_num_batches = 1400         # Total number of batches to train on.\n",
    "fp_batch_size = 128          # How many examples in each batch\n",
    "fp_step_size = 0.2          # initial learning rate\n",
    "fp_decay_factor = 0.9999     # decay the learning rate this much\n",
    "fp_decay_steps = 1           #\n",
    "fp_adam_b1 = 0.9             # Adam parameters\n",
    "fp_adam_b2 = 0.999\n",
    "fp_adam_eps = 1e-5\n",
    "fp_opt_print_every = 200   # Print training information during optimziation every so often\n",
    "\n",
    "# Fixed point finding thresholds and other HPs\n",
    "fp_noise_var = 0.0      # Gaussian noise added to fixed point candidates before optimization.\n",
    "fp_opt_stop_tol = 0.00001  # Stop optimizing when the average value of the batch is below this value.\n",
    "fp_tol = 0.00001        # Discard fps with squared speed larger than this value.\n",
    "fp_unique_tol = 0.025   # tolerance for determination of identical fixed points\n",
    "fp_outlier_tol = 1.0    # Anypoint whos closest fixed point is greater than tol is an outlier."
   ]
  },
  {
   "cell_type": "code",
   "execution_count": 326,
   "metadata": {},
   "outputs": [],
   "source": [
    "_, hiddens = gru(noise)"
   ]
  },
  {
   "cell_type": "code",
   "execution_count": null,
   "metadata": {},
   "outputs": [],
   "source": []
  },
  {
   "cell_type": "code",
   "execution_count": 327,
   "metadata": {},
   "outputs": [
    {
     "data": {
      "text/plain": [
       "torch.Size([25600, 100])"
      ]
     },
     "execution_count": 327,
     "metadata": {},
     "output_type": "execute_result"
    }
   ],
   "source": [
    "fp_candidates.shape"
   ]
  },
  {
   "cell_type": "code",
   "execution_count": 328,
   "metadata": {},
   "outputs": [
    {
     "name": "stdout",
     "output_type": "stream",
     "text": [
      "tensor(0.0024, device='cuda:0', grad_fn=<MeanBackward0>)\n",
      "tensor(0.0015, device='cuda:0', grad_fn=<MeanBackward0>)\n",
      "tensor(0.0008, device='cuda:0', grad_fn=<MeanBackward0>)\n",
      "tensor(0.0004, device='cuda:0', grad_fn=<MeanBackward0>)\n",
      "tensor(0.0002, device='cuda:0', grad_fn=<MeanBackward0>)\n",
      "tensor(0.0001, device='cuda:0', grad_fn=<MeanBackward0>)\n",
      "tensor(5.8507e-05, device='cuda:0', grad_fn=<MeanBackward0>)\n"
     ]
    }
   ],
   "source": [
    "candidates = hiddens.view(-1, 100)\n",
    "fp_candidates = torch.nn.Parameter(candidates.clone())\n",
    "x_star = torch.zeros((25600, 1)).cuda()\n",
    "\n",
    "fp_opt = torch.optim.Adam([fp_candidates], \n",
    "                         fp_step_size,\n",
    "                         (fp_adam_b1,fp_adam_b2),\n",
    "                         fp_adam_eps,\n",
    "                         )   \n",
    "\n",
    "fp_mse = torch.nn.MSELoss(reduce=False).cuda()\n",
    "for i in range(fp_num_batches):\n",
    "\n",
    "\n",
    "    fp_opt.zero_grad()\n",
    "    h_new = gru.gru(x_star, fp_candidates)\n",
    "    fp_loss = fp_mse(h_new, fp_candidates)\n",
    "    \n",
    "    mse = torch.mean(fp_loss)\n",
    "    \n",
    "    mse.backward()\n",
    "    fp_opt.step()\n",
    "    \n",
    "    if i % fp_opt_print_every == 0:\n",
    "        print(mse)\n",
    "        \n",
    "        "
   ]
  },
  {
   "cell_type": "code",
   "execution_count": 347,
   "metadata": {},
   "outputs": [],
   "source": [
    "speeds = torch.mean(fp_mse(fp_candidates, h_new), dim=1)\n",
    "best_fps = fp_candidates[speeds < fp_tol]\n",
    "fps = best_fps.cpu().detach().numpy()"
   ]
  },
  {
   "cell_type": "code",
   "execution_count": 351,
   "metadata": {},
   "outputs": [],
   "source": []
  },
  {
   "cell_type": "code",
   "execution_count": 358,
   "metadata": {},
   "outputs": [
    {
     "data": {
      "text/plain": [
       "<mpl_toolkits.mplot3d.art3d.Path3DCollection at 0x7f9736c15a90>"
      ]
     },
     "execution_count": 358,
     "metadata": {},
     "output_type": "execute_result"
    },
    {
     "data": {
      "image/png": "[encoded data removed]",
      "text/plain": [
       "<Figure size 432x288 with 1 Axes>"
      ]
     },
     "metadata": {
      "needs_background": "light"
     },
     "output_type": "display_data"
    }
   ],
   "source": []
  },
  {
   "cell_type": "code",
   "execution_count": 363,
   "metadata": {},
   "outputs": [],
   "source": [
    "readouts = gru.readout(best_fps).cpu().detach().numpy()"
   ]
  },
  {
   "cell_type": "code",
   "execution_count": 399,
   "metadata": {},
   "outputs": [
    {
     "data": {
      "text/plain": [
       "(18917, 1)"
      ]
     },
     "execution_count": 399,
     "metadata": {},
     "output_type": "execute_result"
    }
   ],
   "source": [
    "readouts[sorted_idxs].shape"
   ]
  },
  {
   "cell_type": "code",
   "execution_count": 393,
   "metadata": {},
   "outputs": [],
   "source": [
    "sorted_idxs = np.argsort(readouts, axis=0).squeeze()\n",
    "sorted_fps = best_fps[sorted_idxs].cpu().detach().numpy()"
   ]
  },
  {
   "cell_type": "code",
   "execution_count": 394,
   "metadata": {},
   "outputs": [],
   "source": [
    "from sklearn.decomposition import PCA\n",
    "from mpl_toolkits.mplot3d import Axes3D"
   ]
  },
  {
   "cell_type": "code",
   "execution_count": 395,
   "metadata": {},
   "outputs": [],
   "source": [
    "pca = PCA(3).fit(sorted_fps)\n",
    "pc_fps = pca.transform(sorted_fps)\n"
   ]
  },
  {
   "cell_type": "code",
   "execution_count": 400,
   "metadata": {},
   "outputs": [
    {
     "data": {
      "text/plain": [
       "<mpl_toolkits.mplot3d.art3d.Path3DCollection at 0x7f9735b6d2b0>"
      ]
     },
     "execution_count": 400,
     "metadata": {},
     "output_type": "execute_result"
    },
    {
     "data": {
      "image/png": "[encoded data removed]",
      "text/plain": [
       "<Figure size 432x288 with 1 Axes>"
      ]
     },
     "metadata": {
      "needs_background": "light"
     },
     "output_type": "display_data"
    }
   ],
   "source": [
    "ax = plt.subplot(111, projection='3d')\n",
    "ax.scatter(pc_fps.T[0], pc_fps.T[1], c=readouts[sorted_idxs].squeeze())\n"
   ]
  },
  {
   "cell_type": "code",
   "execution_count": null,
   "metadata": {},
   "outputs": [],
   "source": []
  }
 ],
 "metadata": {
  "kernelspec": {
   "display_name": "dissertation",
   "language": "python",
   "name": "dissertation"
  },
  "language_info": {
   "codemirror_mode": {
    "name": "ipython",
    "version": 3
   },
   "file_extension": ".py",
   "mimetype": "text/x-python",
   "name": "python",
   "nbconvert_exporter": "python",
   "pygments_lexer": "ipython3",
   "version": "3.6.8"
  }
 },
 "nbformat": 4,
 "nbformat_minor": 2
}
