{
 "cells": [
  {
   "cell_type": "code",
   "execution_count": 49,
   "metadata": {},
   "outputs": [
    {
     "name": "stdout",
     "output_type": "stream",
     "text": [
      "Using matplotlib backend: Qt5Agg\n",
      "Populating the interactive namespace from numpy and matplotlib\n",
      "The autoreload extension is already loaded. To reload it, use:\n",
      "  %reload_ext autoreload\n"
     ]
    }
   ],
   "source": [
    "import torch  \n",
    "from torch_fp.fp_opt import find_fps\n",
    "%pylab\n",
    "%load_ext autoreload\n",
    "%autoreload 2"
   ]
  },
  {
   "cell_type": "code",
   "execution_count": 3,
   "metadata": {},
   "outputs": [],
   "source": [
    "T = 1.0          # Arbitrary amount time, roughly physiological.\n",
    "ntimesteps = 25  # Divide T into this many bins\n",
    "bval = 0.01      # bias value limit\n",
    "sval = 0.025     # standard deviation (before dividing by sqrt(dt))\n",
    "input_params = (bval, sval, T, ntimesteps)\n",
    "\n",
    "# GRU and task hyperparameters\n",
    "u = 1         # Number of inputs to the GRU\n",
    "n = 100       # Number of units in the GRU\n",
    "o = 1         # Number of outputs in the GRU\n",
    "\n",
    "# Optimization hyperparameters\n",
    "num_batchs = 10000        # Total number of batches to train on.\n",
    "batch_size = 128          # How many examples in each batch\n",
    "eval_batch_size = 1024    # How large a batch for evaluating the RNN\n",
    "step_size = 0.04          # initial learning rate\n",
    "decay_factor = 0.9999     # decay the learning rate this much\n",
    "# Gradient clipping is HUGELY important for training all RNN varieties\n",
    "max_grad_norm = 10.0      # max gradient norm before clipping, clip to this value.\n",
    "l2reg = 0.00002           # amount of L2 regularization on the weights\n",
    "adam_b1 = 0.9             # Adam parameters\n",
    "adam_b2 = 0.999\n",
    "adam_eps = 1e-1\n",
    "print_every = 100          # Print training informatino every so often"
   ]
  },
  {
   "cell_type": "code",
   "execution_count": 50,
   "metadata": {},
   "outputs": [],
   "source": [
    "def get_noise_dataset(input_params):\n",
    "    (bval, sval, T, ntimesteps) = input_params\n",
    "    normal = torch.distributions.normal.Normal(0, 1)\n",
    "    \n",
    "    dt = torch.FloatTensor([T/ntimesteps])\n",
    "    \n",
    "    bsample = normal.sample([1])\n",
    "    b = bval * 2. * (bsample - 0.5) \n",
    "    \n",
    "    stddev = sval / torch.sqrt(dt)\n",
    "    vsample = normal.sample([ntimesteps])\n",
    "    \n",
    "    noise = vsample * stddev\n",
    "    white_noise = noise + b\n",
    "    \n",
    "    true_integral = torch.cumsum(white_noise, 0)\n",
    "    final_target = torch.Tensor([1.0*((true_integral[-1] > 0.0)-0.5)])\n",
    "    \n",
    "    target_t = torch.zeros(true_integral.shape[0]-1)\n",
    "    targets_t = torch.cat([target_t, final_target], dim=0)\n",
    "    \n",
    "    return white_noise, targets_t\n",
    "    \n",
    "def generate_batch(batch_size, input_params):\n",
    "    \n",
    "    noises, targets = [], []\n",
    "    \n",
    "    for i in range(batch_size):\n",
    "        n, t = get_noise_dataset(input_params)\n",
    "        noises.append(n)\n",
    "        targets.append(t)\n",
    "        \n",
    "    return torch.stack(noises).transpose(1, 0)[:, :, None].cuda(), torch.stack(targets).transpose(1, 0)[:, :, None].cuda()\n",
    "    \n",
    "    \n",
    "    "
   ]
  },
  {
   "cell_type": "code",
   "execution_count": 51,
   "metadata": {},
   "outputs": [],
   "source": [
    "noise, target = get_noise_dataset(input_params)"
   ]
  },
  {
   "cell_type": "code",
   "execution_count": 53,
   "metadata": {},
   "outputs": [
    {
     "data": {
      "text/plain": [
       "[<matplotlib.lines.Line2D at 0x7f43d1898588>]"
      ]
     },
     "execution_count": 53,
     "metadata": {},
     "output_type": "execute_result"
    },
    {
     "data": {
      "image/png": "[encoded data removed]",
      "text/plain": [
       "<Figure size 432x288 with 2 Axes>"
      ]
     },
     "metadata": {
      "needs_background": "light"
     },
     "output_type": "display_data"
    }
   ],
   "source": [
    "%matplotlib inline\n",
    "ax = plt.subplot(211)\n",
    "ax.plot(noise.numpy())\n",
    "ax = plt.subplot(212)\n",
    "ax.plot(target.numpy())"
   ]
  },
  {
   "cell_type": "markdown",
   "metadata": {},
   "source": [
    "# GRU"
   ]
  },
  {
   "cell_type": "code",
   "execution_count": 54,
   "metadata": {},
   "outputs": [],
   "source": [
    "class SimpleGRU(torch.nn.Module):\n",
    "    \"\"\"\n",
    "    Just a GRU class, (Kyunghyun Cho et al., 2014). for didactic purposes.\n",
    "    I suggest you use the standard pytorch GRU class outside of this notebook\n",
    "    \"\"\"\n",
    "    \n",
    "    def __init__(self, u, n, o, use_cuda=True):\n",
    "        super(SimpleGRU, self).__init__()\n",
    "        self.gru = torch.nn.GRUCell(u, n)\n",
    "        self.readout = torch.nn.Linear(n, o)\n",
    "        self.init_s = torch.nn.Parameter(torch.randn(1,n))\n",
    "        \n",
    "        \n",
    "    def forward(self, x):\n",
    "        \n",
    "        hs = []\n",
    "        \n",
    "        batch_size = x.shape[1]\n",
    "        h = self.init_s.repeat((batch_size, 1))\n",
    "        for x_t in x:\n",
    "            h = self.gru(x_t, h)\n",
    "            hs.append(h)\n",
    "        out = self.readout(h)\n",
    "        \n",
    "        return out, torch.stack(hs)\n"
   ]
  },
  {
   "cell_type": "code",
   "execution_count": 27,
   "metadata": {},
   "outputs": [],
   "source": [
    "gru = SimpleGRU(u, n, o).cuda()"
   ]
  },
  {
   "cell_type": "code",
   "execution_count": 28,
   "metadata": {},
   "outputs": [],
   "source": [
    "adam = torch.optim.Adam(gru.parameters(), \n",
    "                        step_size, \n",
    "                        (adam_b1, adam_b2), \n",
    "                        adam_eps,\n",
    "                       l2reg)\n",
    "optim = torch.optim.lr_scheduler.ExponentialLR(adam, decay_factor)"
   ]
  },
  {
   "cell_type": "code",
   "execution_count": 29,
   "metadata": {},
   "outputs": [],
   "source": [
    "noise, targets = generate_batch(batch_size, input_params)"
   ]
  },
  {
   "cell_type": "code",
   "execution_count": 30,
   "metadata": {},
   "outputs": [],
   "source": [
    "mse = torch.nn.MSELoss().cuda()\n",
    "def loss(pred, targets):\n",
    "    targets = targets[-1, :, :]\n",
    "    return mse(pred, targets)\n",
    "    "
   ]
  },
  {
   "cell_type": "code",
   "execution_count": 31,
   "metadata": {},
   "outputs": [
    {
     "data": {
      "text/plain": [
       "tensor(0.3233, device='cuda:0', grad_fn=<MseLossBackward>)"
      ]
     },
     "execution_count": 31,
     "metadata": {},
     "output_type": "execute_result"
    }
   ],
   "source": [
    "loss(gru(noise)[0], targets)"
   ]
  },
  {
   "cell_type": "code",
   "execution_count": 32,
   "metadata": {},
   "outputs": [
    {
     "name": "stderr",
     "output_type": "stream",
     "text": [
      "/home/lucas/anaconda3/envs/diss/lib/python3.6/site-packages/ipykernel_launcher.py:15: UserWarning: torch.nn.utils.clip_grad_norm is now deprecated in favor of torch.nn.utils.clip_grad_norm_.\n",
      "  from ipykernel import kernelapp as app\n"
     ]
    },
    {
     "name": "stdout",
     "output_type": "stream",
     "text": [
      "Batch 0 LR: 0.039996000000000004 Training loss: 0.2988218665122986\n",
      "Batch 100 LR: 0.03959801335030015 Training loss: 0.22253233194351196\n",
      "Batch 200 LR: 0.03920398693095678 Training loss: 0.21583016216754913\n",
      "Batch 300 LR: 0.03881388133505894 Training loss: 0.22097821533679962\n",
      "Batch 400 LR: 0.038427657547820473 Training loss: 0.2007114291191101\n",
      "Batch 500 LR: 0.03804527694267816 Training loss: 0.1089782863855362\n",
      "Batch 600 LR: 0.037666701277428626 Training loss: 0.11384595930576324\n",
      "Batch 700 LR: 0.03729189269040369 Training loss: 0.09424883872270584\n",
      "Batch 800 LR: 0.036920813696683756 Training loss: 0.08227644860744476\n",
      "Batch 900 LR: 0.0365534271843491 Training loss: 0.06856274604797363\n",
      "Batch 1000 LR: 0.036189696410768024 Training loss: 0.05730147659778595\n",
      "Batch 1100 LR: 0.03582958499892238 Training loss: 0.060695044696331024\n",
      "Batch 1200 LR: 0.03547305693376938 Training loss: 0.116590216755867\n",
      "Batch 1300 LR: 0.03512007655863975 Training loss: 0.06577317416667938\n",
      "Batch 1400 LR: 0.03477060857167165 Training loss: 0.048676494508981705\n",
      "Batch 1500 LR: 0.03442461802228005 Training loss: 0.0319901742041111\n",
      "Batch 1600 LR: 0.03408207030766145 Training loss: 0.03367383033037186\n",
      "Batch 1700 LR: 0.03374293116933307 Training loss: 0.03591116890311241\n",
      "Batch 1800 LR: 0.03340716668970668 Training loss: 0.03126276284456253\n",
      "Batch 1900 LR: 0.03307474328869652 Training loss: 0.0603245384991169\n",
      "Batch 2000 LR: 0.03274562772036086 Training loss: 0.026147736236453056\n",
      "Batch 2100 LR: 0.03241978706957714 Training loss: 0.03890436515212059\n",
      "Batch 2200 LR: 0.032097188748749964 Training loss: 0.018792476505041122\n",
      "Batch 2300 LR: 0.03177780049455205 Training loss: 0.03526027873158455\n",
      "Batch 2400 LR: 0.03146159036469761 Training loss: 0.022157231345772743\n",
      "Batch 2500 LR: 0.0311485267347477 Training loss: 0.019410481676459312\n",
      "Batch 2600 LR: 0.030838578294947485 Training loss: 0.01723022200167179\n",
      "Batch 2700 LR: 0.03053171404709485 Training loss: 0.05224532634019852\n",
      "Batch 2800 LR: 0.030227903301440325 Training loss: 0.02003534883260727\n",
      "Batch 2900 LR: 0.029927115673617735 Training loss: 0.035234060138463974\n",
      "Batch 3000 LR: 0.029629321081605427 Training loss: 0.02236533910036087\n",
      "Batch 3100 LR: 0.02933448974271779 Training loss: 0.02075636386871338\n",
      "Batch 3200 LR: 0.029042592170626592 Training loss: 0.027107305824756622\n",
      "Batch 3300 LR: 0.02875359917241208 Training loss: 0.03331174701452255\n",
      "Batch 3400 LR: 0.028467481845643353 Training loss: 0.07162868976593018\n",
      "Batch 3500 LR: 0.028184211575487842 Training loss: 0.04143936187028885\n",
      "Batch 3600 LR: 0.027903760031849426 Training loss: 0.020712818950414658\n",
      "Batch 3700 LR: 0.027626099166535245 Training loss: 0.029521886259317398\n",
      "Batch 3800 LR: 0.02735120121045047 Training loss: 0.03456753492355347\n",
      "Batch 3900 LR: 0.027079038670821134 Training loss: 0.026290729641914368\n",
      "Batch 4000 LR: 0.026809584328444543 Training loss: 0.027750859037041664\n",
      "Batch 4100 LR: 0.026542811234967087 Training loss: 0.014584630727767944\n",
      "Batch 4200 LR: 0.02627869271018908 Training loss: 0.034986935555934906\n",
      "Batch 4300 LR: 0.026017202339396483 Training loss: 0.023984871804714203\n",
      "Batch 4400 LR: 0.02575831397071912 Training loss: 0.026149405166506767\n",
      "Batch 4500 LR: 0.025502001712515182 Training loss: 0.012625160627067089\n",
      "Batch 4600 LR: 0.0252482399307819 Training loss: 0.022346051409840584\n",
      "Batch 4700 LR: 0.024997003246591695 Training loss: 0.018694870173931122\n",
      "Batch 4800 LR: 0.024748266533554192 Training loss: 0.010958848521113396\n",
      "Batch 4900 LR: 0.02450200491530313 Training loss: 0.016979213804006577\n",
      "Batch 5000 LR: 0.024258193763008612 Training loss: 0.018031727522611618\n",
      "Batch 5100 LR: 0.024016808692913835 Training loss: 0.014883801341056824\n",
      "Batch 5200 LR: 0.02377782556389653 Training loss: 0.022798608988523483\n",
      "Batch 5300 LR: 0.023541220475054556 Training loss: 0.013368673622608185\n",
      "Batch 5400 LR: 0.02330696976331556 Training loss: 0.021794361993670464\n",
      "Batch 5500 LR: 0.023075050001070376 Training loss: 0.02557954750955105\n",
      "Batch 5600 LR: 0.022845437993830067 Training loss: 0.02665862627327442\n",
      "Batch 5700 LR: 0.022618110777906212 Training loss: 0.01840788684785366\n",
      "Batch 5800 LR: 0.02239304561811424 Training loss: 0.015978071838617325\n",
      "Batch 5900 LR: 0.022170220005499716 Training loss: 0.014624549075961113\n",
      "Batch 6000 LR: 0.02194961165508723 Training loss: 0.016862550750374794\n",
      "Batch 6100 LR: 0.021731198503651544 Training loss: 0.02117549441754818\n",
      "Batch 6200 LR: 0.021514958707511137 Training loss: 0.016378432512283325\n",
      "Batch 6300 LR: 0.021300870640343573 Training loss: 0.01475716382265091\n",
      "Batch 6400 LR: 0.02108891289102262 Training loss: 0.009564602747559547\n",
      "Batch 6500 LR: 0.02087906426147689 Training loss: 0.018733985722064972\n",
      "Batch 6600 LR: 0.020671303764569857 Training loss: 0.049556322395801544\n",
      "Batch 6700 LR: 0.02046561062200085 Training loss: 0.031033797189593315\n",
      "Batch 6800 LR: 0.020261964262227053 Training loss: 0.014115110039710999\n",
      "Batch 6900 LR: 0.02006034431840611 Training loss: 0.025154639035463333\n",
      "Batch 7000 LR: 0.019860730626359194 Training loss: 0.017519859597086906\n",
      "Batch 7100 LR: 0.019663103222554393 Training loss: 0.02368595264852047\n",
      "Batch 7200 LR: 0.019467442342110165 Training loss: 0.01640533283352852\n",
      "Batch 7300 LR: 0.019273728416818587 Training loss: 0.015483446419239044\n",
      "Batch 7400 LR: 0.019081942073188345 Training loss: 0.013778477907180786\n",
      "Batch 7500 LR: 0.018892064130507185 Training loss: 0.021084856241941452\n",
      "Batch 7600 LR: 0.018704075598923616 Training loss: 0.005309912841767073\n",
      "Batch 7700 LR: 0.01851795767754777 Training loss: 0.020938513800501823\n",
      "Batch 7800 LR: 0.018333691752570963 Training loss: 0.024747848510742188\n",
      "Batch 7900 LR: 0.018151259395404344 Training loss: 0.008489426225423813\n",
      "Batch 8000 LR: 0.01797064236083563 Training loss: 0.028339194133877754\n",
      "Batch 8100 LR: 0.01779182258520447 Training loss: 0.023579688742756844\n",
      "Batch 8200 LR: 0.0176147821845959 Training loss: 0.01471750158816576\n",
      "Batch 8300 LR: 0.017439503453051727 Training loss: 0.00660896860063076\n",
      "Batch 8400 LR: 0.017265968860799747 Training loss: 0.021190263330936432\n",
      "Batch 8500 LR: 0.01709416105250062 Training loss: 0.017344890162348747\n",
      "Batch 8600 LR: 0.016924062845512042 Training loss: 0.011431347578763962\n",
      "Batch 8700 LR: 0.016755657228170417 Training loss: 0.01318589597940445\n",
      "Batch 8800 LR: 0.016588927358089433 Training loss: 0.038694992661476135\n",
      "Batch 8900 LR: 0.01642385656047565 Training loss: 0.009535085409879684\n",
      "Batch 9000 LR: 0.01626042832646086 Training loss: 0.017274215817451477\n",
      "Batch 9100 LR: 0.016098626311450988 Training loss: 0.018000438809394836\n",
      "Batch 9200 LR: 0.015938434333491583 Training loss: 0.01734364964067936\n",
      "Batch 9300 LR: 0.01577983637164919 Training loss: 0.021360483020544052\n",
      "Batch 9400 LR: 0.015622816564409345 Training loss: 0.010942359454929829\n",
      "Batch 9500 LR: 0.015467359208090082 Training loss: 0.010361654683947563\n",
      "Batch 9600 LR: 0.015313448755271488 Training loss: 0.013722556643188\n",
      "Batch 9700 LR: 0.015161069813240755 Training loss: 0.01796988770365715\n",
      "Batch 9800 LR: 0.015010207142452736 Training loss: 0.01153017207980156\n",
      "Batch 9900 LR: 0.014860845655005839 Training loss: 0.018275268375873566\n"
     ]
    }
   ],
   "source": [
    "losses = []\n",
    "batch_idx = []\n",
    "for i_batch in range(num_batchs):\n",
    "    optim.optimizer.zero_grad()\n",
    "    \n",
    "    noise, targets = generate_batch(batch_size, input_params)\n",
    "    \n",
    "    pred, hs  = gru(noise)\n",
    "    train_loss = loss(pred, targets)\n",
    "    \n",
    "    losses.append(train_loss.item())\n",
    "    batch_idx.append(i_batch)\n",
    "    \n",
    "    train_loss.backward()\n",
    "    torch.nn.utils.clip_grad_norm_(gru.parameters(),max_grad_norm)\n",
    "    optim.step()\n",
    "    optim.optimizer.step()\n",
    "    \n",
    "    \n",
    "    if i_batch % print_every == 0:\n",
    "        print(\"Batch\", i_batch, \n",
    "                \"LR:\" , optim.optimizer.param_groups[0]['lr'], \n",
    "              \"Training loss:\", train_loss.item())\n",
    "\n",
    "        \n",
    "    \n"
   ]
  },
  {
   "cell_type": "code",
   "execution_count": 55,
   "metadata": {},
   "outputs": [
    {
     "data": {
      "text/plain": [
       "Text(0, 0.5, 'Training loss')"
      ]
     },
     "execution_count": 55,
     "metadata": {},
     "output_type": "execute_result"
    },
    {
     "data": {
      "image/png": "[encoded data removed]",
      "text/plain": [
       "<Figure size 432x288 with 1 Axes>"
      ]
     },
     "metadata": {
      "needs_background": "light"
     },
     "output_type": "display_data"
    }
   ],
   "source": [
    "plt.plot(batch_idx, losses)\n",
    "plt.xlabel('Batch')\n",
    "plt.ylabel('Training loss')"
   ]
  },
  {
   "cell_type": "code",
   "execution_count": 37,
   "metadata": {},
   "outputs": [
    {
     "name": "stdout",
     "output_type": "stream",
     "text": [
      "Loss on a new large batch: 0.017233407124876976\n"
     ]
    }
   ],
   "source": [
    "noise, targets = generate_batch(eval_batch_size, input_params)\n",
    "pred, hiddens  = gru(noise)\n",
    "print(\"Loss on a new large batch: {}\".format(loss(pred, targets).item())) "
   ]
  },
  {
   "cell_type": "markdown",
   "metadata": {},
   "source": [
    "## Fixed points"
   ]
  },
  {
   "cell_type": "code",
   "execution_count": 39,
   "metadata": {},
   "outputs": [],
   "source": [
    "# Fixed point optimization hyperparameters\n",
    "fp_num_batches = 10000         # Total number of batches to train on.\n",
    "fp_batch_size = 128          # How many examples in each batch\n",
    "fp_step_size = 0.2          # initial learning rate\n",
    "fp_decay_factor = 0.9999     # decay the learning rate this much\n",
    "fp_decay_steps = 1           #\n",
    "fp_adam_b1 = 0.9             # Adam parameters\n",
    "fp_adam_b2 = 0.999\n",
    "fp_adam_eps = 1e-5\n",
    "fp_opt_print_every = 200   # Print training information during optimziation every so often\n",
    "\n",
    "# Fixed point finding thresholds and other HPs\n",
    "fp_noise_var = 0.0      # Gaussian noise added to fixed point candidates before optimization.\n",
    "fp_opt_stop_tol = 0.00001  # Stop optimizing when the average value of the batch is below this value.\n",
    "fp_tol = 0.00001        # Discard fps with squared speed larger than this value.\n",
    "fp_unique_tol = 0.025   # tolerance for determination of identical fixed points\n",
    "fp_outlier_tol = 1.0    # Anypoint whos closest fixed point is greater than tol is an outlier."
   ]
  },
  {
   "cell_type": "code",
   "execution_count": 58,
   "metadata": {},
   "outputs": [],
   "source": [
    "noise, targets = generate_batch(400, input_params)\n",
    "_, hiddens = gru(noise)"
   ]
  },
  {
   "cell_type": "code",
   "execution_count": 59,
   "metadata": {},
   "outputs": [
    {
     "ename": "NameError",
     "evalue": "name 'tol' is not defined",
     "output_type": "error",
     "traceback": [
      "\u001b[0;31m---------------------------------------------------------------------------\u001b[0m",
      "\u001b[0;31mNameError\u001b[0m                                 Traceback (most recent call last)",
      "\u001b[0;32m<ipython-input-59-72609795fe4e>\u001b[0m in \u001b[0;36m<module>\u001b[0;34m\u001b[0m\n\u001b[1;32m      6\u001b[0m       \u001b[0;34m'adam_b1'\u001b[0m \u001b[0;34m:\u001b[0m \u001b[0mfp_adam_b1\u001b[0m\u001b[0;34m,\u001b[0m \u001b[0;34m'adam_b2'\u001b[0m \u001b[0;34m:\u001b[0m \u001b[0mfp_adam_b2\u001b[0m\u001b[0;34m,\u001b[0m \u001b[0;34m'adam_eps'\u001b[0m \u001b[0;34m:\u001b[0m \u001b[0mfp_adam_eps\u001b[0m\u001b[0;34m,\u001b[0m\u001b[0;34m\u001b[0m\u001b[0;34m\u001b[0m\u001b[0m\n\u001b[1;32m      7\u001b[0m       \u001b[0;34m'noise_var'\u001b[0m \u001b[0;34m:\u001b[0m \u001b[0mfp_noise_var\u001b[0m\u001b[0;34m,\u001b[0m\u001b[0;34m\u001b[0m\u001b[0;34m\u001b[0m\u001b[0m\n\u001b[0;32m----> 8\u001b[0;31m       \u001b[0;34m'fp_opt_stop_tol'\u001b[0m \u001b[0;34m:\u001b[0m \u001b[0mtol\u001b[0m\u001b[0;34m,\u001b[0m\u001b[0;34m\u001b[0m\u001b[0;34m\u001b[0m\u001b[0m\n\u001b[0m\u001b[1;32m      9\u001b[0m       \u001b[0;34m'fp_tol'\u001b[0m \u001b[0;34m:\u001b[0m \u001b[0mtol\u001b[0m\u001b[0;34m,\u001b[0m\u001b[0;34m\u001b[0m\u001b[0;34m\u001b[0m\u001b[0m\n\u001b[1;32m     10\u001b[0m       \u001b[0;34m'unique_tol'\u001b[0m \u001b[0;34m:\u001b[0m \u001b[0mfp_unique_tol\u001b[0m\u001b[0;34m,\u001b[0m\u001b[0;34m\u001b[0m\u001b[0;34m\u001b[0m\u001b[0m\n",
      "\u001b[0;31mNameError\u001b[0m: name 'tol' is not defined"
     ]
    }
   ],
   "source": [
    "opt_params = {\n",
    "    'num_batches' : fp_num_batches, \n",
    "      'step_size' : fp_step_size, \n",
    "      'decay_factor' : fp_decay_factor, \n",
    "      'decay_steps' : fp_decay_steps, \n",
    "      'adam_b1' : fp_adam_b1, 'adam_b2' : fp_adam_b2, 'adam_eps' : fp_adam_eps,\n",
    "      'noise_var' : fp_noise_var, \n",
    "      'fp_opt_stop_tol' : tol, \n",
    "      'fp_tol' : tol, \n",
    "      'unique_tol' : fp_unique_tol, \n",
    "      'outlier_tol' : fp_outlier_tol, \n",
    "      'opt_print_every' : fp_opt_print_every\n",
    "}"
   ]
  },
  {
   "cell_type": "code",
   "execution_count": 45,
   "metadata": {},
   "outputs": [
    {
     "name": "stdout",
     "output_type": "stream",
     "text": [
      "tensor(0.0029, device='cuda:0', grad_fn=<MeanBackward0>)\n",
      "tensor(0.0018, device='cuda:0', grad_fn=<MeanBackward0>)\n",
      "tensor(0.0009, device='cuda:0', grad_fn=<MeanBackward0>)\n",
      "tensor(0.0005, device='cuda:0', grad_fn=<MeanBackward0>)\n",
      "tensor(0.0003, device='cuda:0', grad_fn=<MeanBackward0>)\n",
      "tensor(0.0001, device='cuda:0', grad_fn=<MeanBackward0>)\n",
      "tensor(7.2271e-05, device='cuda:0', grad_fn=<MeanBackward0>)\n"
     ]
    }
   ],
   "source": [
    "p_tols = [0.0001, 0.00001, 0.000001] # Used for both fp_tol and opt_stop_tol\n",
    "\n",
    "\n",
    "candidates = hiddens.view(-1, 100)\n",
    "fp_candidates = torch.nn.Parameter(candidates.clone())\n",
    "x_star = torch.zeros((candidates.shape[0], 1)).cuda()\n",
    "\n",
    "fp_opt = torch.optim.Adam([fp_candidates], \n",
    "                         fp_step_size,\n",
    "                         (fp_adam_b1,fp_adam_b2),\n",
    "                         fp_adam_eps,\n",
    "                         )   \n",
    "\n",
    "fp_mse = torch.nn.MSELoss(reduction='none').cuda()\n",
    "for i in range(fp_num_batches):\n",
    "\n",
    "\n",
    "    fp_opt.zero_grad()\n",
    "    h_new = gru.gru(x_star, fp_candidates)\n",
    "    fp_loss = fp_mse(h_new, fp_candidates)\n",
    "    \n",
    "    mse = torch.mean(fp_loss)\n",
    "    \n",
    "    mse.backward()\n",
    "    fp_opt.step()\n",
    "    \n",
    "    if i % fp_opt_print_every == 0:\n",
    "        print(mse)\n",
    "        \n",
    "        "
   ]
  },
  {
   "cell_type": "code",
   "execution_count": 347,
   "metadata": {},
   "outputs": [],
   "source": [
    "speeds = torch.mean(fp_mse(fp_candidates, h_new), dim=1)\n",
    "best_fps = fp_candidates[speeds < fp_tol]\n",
    "fps = best_fps.cpu().detach().numpy()"
   ]
  },
  {
   "cell_type": "code",
   "execution_count": 351,
   "metadata": {},
   "outputs": [],
   "source": []
  },
  {
   "cell_type": "code",
   "execution_count": 358,
   "metadata": {},
   "outputs": [
    {
     "data": {
      "text/plain": [
       "<mpl_toolkits.mplot3d.art3d.Path3DCollection at 0x7f9736c15a90>"
      ]
     },
     "execution_count": 358,
     "metadata": {},
     "output_type": "execute_result"
    },
    {
     "data": {
      "image/png": "[encoded data removed]",
      "text/plain": [
       "<Figure size 432x288 with 1 Axes>"
      ]
     },
     "metadata": {
      "needs_background": "light"
     },
     "output_type": "display_data"
    }
   ],
   "source": []
  },
  {
   "cell_type": "code",
   "execution_count": 363,
   "metadata": {},
   "outputs": [],
   "source": [
    "readouts = gru.readout(best_fps).cpu().detach().numpy()"
   ]
  },
  {
   "cell_type": "code",
   "execution_count": 399,
   "metadata": {},
   "outputs": [
    {
     "data": {
      "text/plain": [
       "(18917, 1)"
      ]
     },
     "execution_count": 399,
     "metadata": {},
     "output_type": "execute_result"
    }
   ],
   "source": [
    "readouts[sorted_idxs].shape"
   ]
  },
  {
   "cell_type": "code",
   "execution_count": 393,
   "metadata": {},
   "outputs": [],
   "source": [
    "sorted_idxs = np.argsort(readouts, axis=0).squeeze()\n",
    "sorted_fps = best_fps[sorted_idxs].cpu().detach().numpy()"
   ]
  },
  {
   "cell_type": "code",
   "execution_count": 394,
   "metadata": {},
   "outputs": [],
   "source": [
    "from sklearn.decomposition import PCA\n",
    "from mpl_toolkits.mplot3d import Axes3D"
   ]
  },
  {
   "cell_type": "code",
   "execution_count": 395,
   "metadata": {},
   "outputs": [],
   "source": [
    "pca = PCA(3).fit(sorted_fps)\n",
    "pc_fps = pca.transform(sorted_fps)\n"
   ]
  },
  {
   "cell_type": "code",
   "execution_count": 400,
   "metadata": {},
   "outputs": [
    {
     "data": {
      "text/plain": [
       "<mpl_toolkits.mplot3d.art3d.Path3DCollection at 0x7f9735b6d2b0>"
      ]
     },
     "execution_count": 400,
     "metadata": {},
     "output_type": "execute_result"
    },
    {
     "data": {
      "image/png": "[encoded data removed]",
      "text/plain": [
       "<Figure size 432x288 with 1 Axes>"
      ]
     },
     "metadata": {
      "needs_background": "light"
     },
     "output_type": "display_data"
    }
   ],
   "source": [
    "ax = plt.subplot(111, projection='3d')\n",
    "ax.scatter(pc_fps.T[0], pc_fps.T[1], c=readouts[sorted_idxs].squeeze())\n"
   ]
  },
  {
   "cell_type": "code",
   "execution_count": null,
   "metadata": {},
   "outputs": [],
   "source": []
  }
 ],
 "metadata": {
  "kernelspec": {
   "display_name": "dissertation",
   "language": "python",
   "name": "dissertation"
  },
  "language_info": {
   "codemirror_mode": {
    "name": "ipython",
    "version": 3
   },
   "file_extension": ".py",
   "mimetype": "text/x-python",
   "name": "python",
   "nbconvert_exporter": "python",
   "pygments_lexer": "ipython3",
   "version": "3.6.8"
  }
 },
 "nbformat": 4,
 "nbformat_minor": 2
}
